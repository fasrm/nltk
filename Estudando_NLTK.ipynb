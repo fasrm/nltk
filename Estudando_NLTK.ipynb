{
  "nbformat": 4,
  "nbformat_minor": 0,
  "metadata": {
    "colab": {
      "provenance": [],
      "collapsed_sections": []
    },
    "kernelspec": {
      "name": "python3",
      "display_name": "Python 3"
    },
    "language_info": {
      "name": "python"
    }
  },
  "cells": [
    {
      "cell_type": "code",
      "execution_count": 280,
      "metadata": {
        "colab": {
          "base_uri": "https://localhost:8080/"
        },
        "id": "_pZPuNJ9T8jZ",
        "outputId": "25b6afb8-2612-4428-9911-23460d2de7fc"
      },
      "outputs": [
        {
          "output_type": "stream",
          "name": "stderr",
          "text": [
            "[nltk_data] Downloading package punkt to /root/nltk_data...\n",
            "[nltk_data]   Package punkt is already up-to-date!\n",
            "[nltk_data] Downloading package averaged_perceptron_tagger to\n",
            "[nltk_data]     /root/nltk_data...\n",
            "[nltk_data]   Package averaged_perceptron_tagger is already up-to-\n",
            "[nltk_data]       date!\n",
            "[nltk_data] Downloading package stopwords to /root/nltk_data...\n",
            "[nltk_data]   Package stopwords is already up-to-date!\n",
            "[nltk_data] Downloading package wordnet to /root/nltk_data...\n",
            "[nltk_data]   Package wordnet is already up-to-date!\n",
            "[nltk_data] Downloading package omw-1.4 to /root/nltk_data...\n",
            "[nltk_data]   Package omw-1.4 is already up-to-date!\n",
            "[nltk_data] Downloading package maxent_ne_chunker to\n",
            "[nltk_data]     /root/nltk_data...\n",
            "[nltk_data]   Package maxent_ne_chunker is already up-to-date!\n",
            "[nltk_data] Downloading package words to /root/nltk_data...\n",
            "[nltk_data]   Package words is already up-to-date!\n",
            "[nltk_data] Downloading package rslp to /root/nltk_data...\n",
            "[nltk_data]   Package rslp is already up-to-date!\n"
          ]
        },
        {
          "output_type": "execute_result",
          "data": {
            "text/plain": [
              "True"
            ]
          },
          "metadata": {},
          "execution_count": 280
        }
      ],
      "source": [
        "import nltk\n",
        "import string\n",
        "from nltk.stem import WordNetLemmatizer\n",
        "from nltk.metrics import ConfusionMatrix\n",
        "nltk.download('punkt')\n",
        "nltk.download('averaged_perceptron_tagger')\n",
        "nltk.download('stopwords')\n",
        "nltk.download('wordnet')\n",
        "nltk.download('omw-1.4')\n",
        "nltk.download('maxent_ne_chunker')\n",
        "nltk.download('words')\n",
        "nltk.download('rslp')"
      ]
    },
    {
      "cell_type": "code",
      "source": [
        "quote = \"We are here to laugh at the odds and live our lives so weel that Death will tremble to take us.\"\n",
        "quote"
      ],
      "metadata": {
        "colab": {
          "base_uri": "https://localhost:8080/",
          "height": 35
        },
        "id": "vb6ZJ0k4T94F",
        "outputId": "668cd29f-46e1-4b94-f481-8d0682dc72a0"
      },
      "execution_count": 281,
      "outputs": [
        {
          "output_type": "execute_result",
          "data": {
            "text/plain": [
              "'We are here to laugh at the odds and live our lives so weel that Death will tremble to take us.'"
            ],
            "application/vnd.google.colaboratory.intrinsic+json": {
              "type": "string"
            }
          },
          "metadata": {},
          "execution_count": 281
        }
      ]
    },
    {
      "cell_type": "code",
      "source": [
        "# Tokenização não adequada\n",
        "quote.split()"
      ],
      "metadata": {
        "colab": {
          "base_uri": "https://localhost:8080/"
        },
        "id": "cnJrtZzuUOOz",
        "outputId": "c3c04610-5fa6-4c58-97d5-e8b6153c0a5d"
      },
      "execution_count": 282,
      "outputs": [
        {
          "output_type": "execute_result",
          "data": {
            "text/plain": [
              "['We',\n",
              " 'are',\n",
              " 'here',\n",
              " 'to',\n",
              " 'laugh',\n",
              " 'at',\n",
              " 'the',\n",
              " 'odds',\n",
              " 'and',\n",
              " 'live',\n",
              " 'our',\n",
              " 'lives',\n",
              " 'so',\n",
              " 'weel',\n",
              " 'that',\n",
              " 'Death',\n",
              " 'will',\n",
              " 'tremble',\n",
              " 'to',\n",
              " 'take',\n",
              " 'us.']"
            ]
          },
          "metadata": {},
          "execution_count": 282
        }
      ]
    },
    {
      "cell_type": "code",
      "source": [
        "tokens = nltk.word_tokenize(quote)"
      ],
      "metadata": {
        "id": "sRuRQ_Y4UZBr"
      },
      "execution_count": 283,
      "outputs": []
    },
    {
      "cell_type": "code",
      "source": [
        "frase = 'Não sei dirigir de outra menira que não seja arriscada. Quando tiver de ultrapassar vou ultrapassar mesmo. Cada piloto tem o seu limite. O meu é um pouco acima do dos outros.'\n",
        "frase"
      ],
      "metadata": {
        "colab": {
          "base_uri": "https://localhost:8080/",
          "height": 35
        },
        "id": "Q2HbPbfeUgCD",
        "outputId": "c37d3554-c386-49c1-efad-149799638497"
      },
      "execution_count": 284,
      "outputs": [
        {
          "output_type": "execute_result",
          "data": {
            "text/plain": [
              "'Não sei dirigir de outra menira que não seja arriscada. Quando tiver de ultrapassar vou ultrapassar mesmo. Cada piloto tem o seu limite. O meu é um pouco acima do dos outros.'"
            ],
            "application/vnd.google.colaboratory.intrinsic+json": {
              "type": "string"
            }
          },
          "metadata": {},
          "execution_count": 284
        }
      ]
    },
    {
      "cell_type": "code",
      "source": [
        "tokens_pt = nltk.word_tokenize(frase, language=\"portuguese\")\n",
        "tokens_pt"
      ],
      "metadata": {
        "colab": {
          "base_uri": "https://localhost:8080/"
        },
        "id": "a5yP9FeVU7i7",
        "outputId": "23c50880-3a8b-4661-fd54-10be3186adc4"
      },
      "execution_count": 285,
      "outputs": [
        {
          "output_type": "execute_result",
          "data": {
            "text/plain": [
              "['Não',\n",
              " 'sei',\n",
              " 'dirigir',\n",
              " 'de',\n",
              " 'outra',\n",
              " 'menira',\n",
              " 'que',\n",
              " 'não',\n",
              " 'seja',\n",
              " 'arriscada',\n",
              " '.',\n",
              " 'Quando',\n",
              " 'tiver',\n",
              " 'de',\n",
              " 'ultrapassar',\n",
              " 'vou',\n",
              " 'ultrapassar',\n",
              " 'mesmo',\n",
              " '.',\n",
              " 'Cada',\n",
              " 'piloto',\n",
              " 'tem',\n",
              " 'o',\n",
              " 'seu',\n",
              " 'limite',\n",
              " '.',\n",
              " 'O',\n",
              " 'meu',\n",
              " 'é',\n",
              " 'um',\n",
              " 'pouco',\n",
              " 'acima',\n",
              " 'do',\n",
              " 'dos',\n",
              " 'outros',\n",
              " '.']"
            ]
          },
          "metadata": {},
          "execution_count": 285
        }
      ]
    },
    {
      "cell_type": "code",
      "source": [
        "# Tokenização de Sentenças\n",
        "nltk.sent_tokenize(frase, language=\"portuguese\")"
      ],
      "metadata": {
        "colab": {
          "base_uri": "https://localhost:8080/"
        },
        "id": "JwTq542yVBhU",
        "outputId": "3a571ccc-26c9-41cd-80de-5cc31fa0bc36"
      },
      "execution_count": 286,
      "outputs": [
        {
          "output_type": "execute_result",
          "data": {
            "text/plain": [
              "['Não sei dirigir de outra menira que não seja arriscada.',\n",
              " 'Quando tiver de ultrapassar vou ultrapassar mesmo.',\n",
              " 'Cada piloto tem o seu limite.',\n",
              " 'O meu é um pouco acima do dos outros.']"
            ]
          },
          "metadata": {},
          "execution_count": 286
        }
      ]
    },
    {
      "cell_type": "code",
      "source": [
        "# NLTK - Análise Morfológica - somente inglês\n",
        "tokens = nltk.word_tokenize(quote)\n"
      ],
      "metadata": {
        "id": "I779LMkHVY_E"
      },
      "execution_count": 287,
      "outputs": []
    },
    {
      "cell_type": "code",
      "source": [
        "nltk.pos_tag(tokens)"
      ],
      "metadata": {
        "colab": {
          "base_uri": "https://localhost:8080/"
        },
        "id": "_3cM8kwkWOnr",
        "outputId": "77de885d-8ac1-43b2-fde4-22238552ea99"
      },
      "execution_count": 288,
      "outputs": [
        {
          "output_type": "execute_result",
          "data": {
            "text/plain": [
              "[('We', 'PRP'),\n",
              " ('are', 'VBP'),\n",
              " ('here', 'RB'),\n",
              " ('to', 'TO'),\n",
              " ('laugh', 'NN'),\n",
              " ('at', 'IN'),\n",
              " ('the', 'DT'),\n",
              " ('odds', 'NNS'),\n",
              " ('and', 'CC'),\n",
              " ('live', 'JJ'),\n",
              " ('our', 'PRP$'),\n",
              " ('lives', 'NNS'),\n",
              " ('so', 'RB'),\n",
              " ('weel', 'IN'),\n",
              " ('that', 'DT'),\n",
              " ('Death', 'NNP'),\n",
              " ('will', 'MD'),\n",
              " ('tremble', 'VB'),\n",
              " ('to', 'TO'),\n",
              " ('take', 'VB'),\n",
              " ('us', 'PRP'),\n",
              " ('.', '.')]"
            ]
          },
          "metadata": {},
          "execution_count": 288
        }
      ]
    },
    {
      "cell_type": "code",
      "source": [
        "# Para entender melhor as tags do NLTK: https://www.ling.upenn.edu/courses/Fall_2003/ling001/penn_treebank_pos.html"
      ],
      "metadata": {
        "id": "VkxI1SVDWTkb"
      },
      "execution_count": 289,
      "outputs": []
    },
    {
      "cell_type": "code",
      "source": [
        "substantivos = []\n",
        "for par in nltk.pos_tag(tokens):\n",
        "  if par[1] in ['NN', 'NNS', 'NNP', 'NNPS']:\n",
        "    substantivos.append(par[0])\n",
        "substantivos"
      ],
      "metadata": {
        "colab": {
          "base_uri": "https://localhost:8080/"
        },
        "id": "OSJKdPYNWmsU",
        "outputId": "7866f6a0-904a-47cd-b09f-bb0981d8603c"
      },
      "execution_count": 290,
      "outputs": [
        {
          "output_type": "execute_result",
          "data": {
            "text/plain": [
              "['laugh', 'odds', 'lives', 'Death']"
            ]
          },
          "metadata": {},
          "execution_count": 290
        }
      ]
    },
    {
      "cell_type": "code",
      "source": [
        "# NLTK - Remoção de Palavras Fechadas\n",
        "# Para muitas aplicações de processamento de língua natural, palavras fechadas e pontuações são removidas.\n",
        "# No NLTK, palavras fechadas são conhecidas como stopwords ou palavras vazias.\n",
        "stopwords_en = nltk.corpus.stopwords.words(\"english\")\n",
        "stopwords_en"
      ],
      "metadata": {
        "colab": {
          "base_uri": "https://localhost:8080/"
        },
        "id": "jBP-s8cxXZNS",
        "outputId": "0c1e302a-0855-4d9e-ac14-ca910843215e"
      },
      "execution_count": 291,
      "outputs": [
        {
          "output_type": "execute_result",
          "data": {
            "text/plain": [
              "['i',\n",
              " 'me',\n",
              " 'my',\n",
              " 'myself',\n",
              " 'we',\n",
              " 'our',\n",
              " 'ours',\n",
              " 'ourselves',\n",
              " 'you',\n",
              " \"you're\",\n",
              " \"you've\",\n",
              " \"you'll\",\n",
              " \"you'd\",\n",
              " 'your',\n",
              " 'yours',\n",
              " 'yourself',\n",
              " 'yourselves',\n",
              " 'he',\n",
              " 'him',\n",
              " 'his',\n",
              " 'himself',\n",
              " 'she',\n",
              " \"she's\",\n",
              " 'her',\n",
              " 'hers',\n",
              " 'herself',\n",
              " 'it',\n",
              " \"it's\",\n",
              " 'its',\n",
              " 'itself',\n",
              " 'they',\n",
              " 'them',\n",
              " 'their',\n",
              " 'theirs',\n",
              " 'themselves',\n",
              " 'what',\n",
              " 'which',\n",
              " 'who',\n",
              " 'whom',\n",
              " 'this',\n",
              " 'that',\n",
              " \"that'll\",\n",
              " 'these',\n",
              " 'those',\n",
              " 'am',\n",
              " 'is',\n",
              " 'are',\n",
              " 'was',\n",
              " 'were',\n",
              " 'be',\n",
              " 'been',\n",
              " 'being',\n",
              " 'have',\n",
              " 'has',\n",
              " 'had',\n",
              " 'having',\n",
              " 'do',\n",
              " 'does',\n",
              " 'did',\n",
              " 'doing',\n",
              " 'a',\n",
              " 'an',\n",
              " 'the',\n",
              " 'and',\n",
              " 'but',\n",
              " 'if',\n",
              " 'or',\n",
              " 'because',\n",
              " 'as',\n",
              " 'until',\n",
              " 'while',\n",
              " 'of',\n",
              " 'at',\n",
              " 'by',\n",
              " 'for',\n",
              " 'with',\n",
              " 'about',\n",
              " 'against',\n",
              " 'between',\n",
              " 'into',\n",
              " 'through',\n",
              " 'during',\n",
              " 'before',\n",
              " 'after',\n",
              " 'above',\n",
              " 'below',\n",
              " 'to',\n",
              " 'from',\n",
              " 'up',\n",
              " 'down',\n",
              " 'in',\n",
              " 'out',\n",
              " 'on',\n",
              " 'off',\n",
              " 'over',\n",
              " 'under',\n",
              " 'again',\n",
              " 'further',\n",
              " 'then',\n",
              " 'once',\n",
              " 'here',\n",
              " 'there',\n",
              " 'when',\n",
              " 'where',\n",
              " 'why',\n",
              " 'how',\n",
              " 'all',\n",
              " 'any',\n",
              " 'both',\n",
              " 'each',\n",
              " 'few',\n",
              " 'more',\n",
              " 'most',\n",
              " 'other',\n",
              " 'some',\n",
              " 'such',\n",
              " 'no',\n",
              " 'nor',\n",
              " 'not',\n",
              " 'only',\n",
              " 'own',\n",
              " 'same',\n",
              " 'so',\n",
              " 'than',\n",
              " 'too',\n",
              " 'very',\n",
              " 's',\n",
              " 't',\n",
              " 'can',\n",
              " 'will',\n",
              " 'just',\n",
              " 'don',\n",
              " \"don't\",\n",
              " 'should',\n",
              " \"should've\",\n",
              " 'now',\n",
              " 'd',\n",
              " 'll',\n",
              " 'm',\n",
              " 'o',\n",
              " 're',\n",
              " 've',\n",
              " 'y',\n",
              " 'ain',\n",
              " 'aren',\n",
              " \"aren't\",\n",
              " 'couldn',\n",
              " \"couldn't\",\n",
              " 'didn',\n",
              " \"didn't\",\n",
              " 'doesn',\n",
              " \"doesn't\",\n",
              " 'hadn',\n",
              " \"hadn't\",\n",
              " 'hasn',\n",
              " \"hasn't\",\n",
              " 'haven',\n",
              " \"haven't\",\n",
              " 'isn',\n",
              " \"isn't\",\n",
              " 'ma',\n",
              " 'mightn',\n",
              " \"mightn't\",\n",
              " 'mustn',\n",
              " \"mustn't\",\n",
              " 'needn',\n",
              " \"needn't\",\n",
              " 'shan',\n",
              " \"shan't\",\n",
              " 'shouldn',\n",
              " \"shouldn't\",\n",
              " 'wasn',\n",
              " \"wasn't\",\n",
              " 'weren',\n",
              " \"weren't\",\n",
              " 'won',\n",
              " \"won't\",\n",
              " 'wouldn',\n",
              " \"wouldn't\"]"
            ]
          },
          "metadata": {},
          "execution_count": 291
        }
      ]
    },
    {
      "cell_type": "code",
      "source": [
        "stopwords_pt = nltk.corpus.stopwords.words(\"portuguese\")\n",
        "stopwords_pt"
      ],
      "metadata": {
        "colab": {
          "base_uri": "https://localhost:8080/"
        },
        "id": "4oB4cDIQYASz",
        "outputId": "c7c1796e-4789-4a98-ec62-a65848f15a73"
      },
      "execution_count": 292,
      "outputs": [
        {
          "output_type": "execute_result",
          "data": {
            "text/plain": [
              "['a',\n",
              " 'à',\n",
              " 'ao',\n",
              " 'aos',\n",
              " 'aquela',\n",
              " 'aquelas',\n",
              " 'aquele',\n",
              " 'aqueles',\n",
              " 'aquilo',\n",
              " 'as',\n",
              " 'às',\n",
              " 'até',\n",
              " 'com',\n",
              " 'como',\n",
              " 'da',\n",
              " 'das',\n",
              " 'de',\n",
              " 'dela',\n",
              " 'delas',\n",
              " 'dele',\n",
              " 'deles',\n",
              " 'depois',\n",
              " 'do',\n",
              " 'dos',\n",
              " 'e',\n",
              " 'é',\n",
              " 'ela',\n",
              " 'elas',\n",
              " 'ele',\n",
              " 'eles',\n",
              " 'em',\n",
              " 'entre',\n",
              " 'era',\n",
              " 'eram',\n",
              " 'éramos',\n",
              " 'essa',\n",
              " 'essas',\n",
              " 'esse',\n",
              " 'esses',\n",
              " 'esta',\n",
              " 'está',\n",
              " 'estamos',\n",
              " 'estão',\n",
              " 'estar',\n",
              " 'estas',\n",
              " 'estava',\n",
              " 'estavam',\n",
              " 'estávamos',\n",
              " 'este',\n",
              " 'esteja',\n",
              " 'estejam',\n",
              " 'estejamos',\n",
              " 'estes',\n",
              " 'esteve',\n",
              " 'estive',\n",
              " 'estivemos',\n",
              " 'estiver',\n",
              " 'estivera',\n",
              " 'estiveram',\n",
              " 'estivéramos',\n",
              " 'estiverem',\n",
              " 'estivermos',\n",
              " 'estivesse',\n",
              " 'estivessem',\n",
              " 'estivéssemos',\n",
              " 'estou',\n",
              " 'eu',\n",
              " 'foi',\n",
              " 'fomos',\n",
              " 'for',\n",
              " 'fora',\n",
              " 'foram',\n",
              " 'fôramos',\n",
              " 'forem',\n",
              " 'formos',\n",
              " 'fosse',\n",
              " 'fossem',\n",
              " 'fôssemos',\n",
              " 'fui',\n",
              " 'há',\n",
              " 'haja',\n",
              " 'hajam',\n",
              " 'hajamos',\n",
              " 'hão',\n",
              " 'havemos',\n",
              " 'haver',\n",
              " 'hei',\n",
              " 'houve',\n",
              " 'houvemos',\n",
              " 'houver',\n",
              " 'houvera',\n",
              " 'houverá',\n",
              " 'houveram',\n",
              " 'houvéramos',\n",
              " 'houverão',\n",
              " 'houverei',\n",
              " 'houverem',\n",
              " 'houveremos',\n",
              " 'houveria',\n",
              " 'houveriam',\n",
              " 'houveríamos',\n",
              " 'houvermos',\n",
              " 'houvesse',\n",
              " 'houvessem',\n",
              " 'houvéssemos',\n",
              " 'isso',\n",
              " 'isto',\n",
              " 'já',\n",
              " 'lhe',\n",
              " 'lhes',\n",
              " 'mais',\n",
              " 'mas',\n",
              " 'me',\n",
              " 'mesmo',\n",
              " 'meu',\n",
              " 'meus',\n",
              " 'minha',\n",
              " 'minhas',\n",
              " 'muito',\n",
              " 'na',\n",
              " 'não',\n",
              " 'nas',\n",
              " 'nem',\n",
              " 'no',\n",
              " 'nos',\n",
              " 'nós',\n",
              " 'nossa',\n",
              " 'nossas',\n",
              " 'nosso',\n",
              " 'nossos',\n",
              " 'num',\n",
              " 'numa',\n",
              " 'o',\n",
              " 'os',\n",
              " 'ou',\n",
              " 'para',\n",
              " 'pela',\n",
              " 'pelas',\n",
              " 'pelo',\n",
              " 'pelos',\n",
              " 'por',\n",
              " 'qual',\n",
              " 'quando',\n",
              " 'que',\n",
              " 'quem',\n",
              " 'são',\n",
              " 'se',\n",
              " 'seja',\n",
              " 'sejam',\n",
              " 'sejamos',\n",
              " 'sem',\n",
              " 'ser',\n",
              " 'será',\n",
              " 'serão',\n",
              " 'serei',\n",
              " 'seremos',\n",
              " 'seria',\n",
              " 'seriam',\n",
              " 'seríamos',\n",
              " 'seu',\n",
              " 'seus',\n",
              " 'só',\n",
              " 'somos',\n",
              " 'sou',\n",
              " 'sua',\n",
              " 'suas',\n",
              " 'também',\n",
              " 'te',\n",
              " 'tem',\n",
              " 'tém',\n",
              " 'temos',\n",
              " 'tenha',\n",
              " 'tenham',\n",
              " 'tenhamos',\n",
              " 'tenho',\n",
              " 'terá',\n",
              " 'terão',\n",
              " 'terei',\n",
              " 'teremos',\n",
              " 'teria',\n",
              " 'teriam',\n",
              " 'teríamos',\n",
              " 'teu',\n",
              " 'teus',\n",
              " 'teve',\n",
              " 'tinha',\n",
              " 'tinham',\n",
              " 'tínhamos',\n",
              " 'tive',\n",
              " 'tivemos',\n",
              " 'tiver',\n",
              " 'tivera',\n",
              " 'tiveram',\n",
              " 'tivéramos',\n",
              " 'tiverem',\n",
              " 'tivermos',\n",
              " 'tivesse',\n",
              " 'tivessem',\n",
              " 'tivéssemos',\n",
              " 'tu',\n",
              " 'tua',\n",
              " 'tuas',\n",
              " 'um',\n",
              " 'uma',\n",
              " 'você',\n",
              " 'vocês',\n",
              " 'vos']"
            ]
          },
          "metadata": {},
          "execution_count": 292
        }
      ]
    },
    {
      "cell_type": "code",
      "source": [
        "stopwords_en = nltk.corpus.stopwords.words(\"english\")\n",
        "punctuations = string.punctuation"
      ],
      "metadata": {
        "id": "NWk_oY2-YQ-L"
      },
      "execution_count": 293,
      "outputs": []
    },
    {
      "cell_type": "code",
      "source": [
        "abertas = []\n",
        "for palavra in tokens:\n",
        "  if palavra.lower() not in stopwords_en and palavra.lower() not in punctuations:\n",
        "    abertas.append(palavra)\n",
        "abertas"
      ],
      "metadata": {
        "colab": {
          "base_uri": "https://localhost:8080/"
        },
        "id": "Di4lSwjEYahs",
        "outputId": "832d10d6-696d-4b74-c831-8dc8aed0d74c"
      },
      "execution_count": 294,
      "outputs": [
        {
          "output_type": "execute_result",
          "data": {
            "text/plain": [
              "['laugh', 'odds', 'live', 'lives', 'weel', 'Death', 'tremble', 'take', 'us']"
            ]
          },
          "metadata": {},
          "execution_count": 294
        }
      ]
    },
    {
      "cell_type": "code",
      "source": [
        "# NLTK - Lematização\n",
        "# É o processo que visa achar a forma raíz de uma palavra.\n",
        "lemmatizer = WordNetLemmatizer()\n"
      ],
      "metadata": {
        "id": "G_E_Tv8nY0Gb"
      },
      "execution_count": 295,
      "outputs": []
    },
    {
      "cell_type": "code",
      "source": [
        "tokens"
      ],
      "metadata": {
        "colab": {
          "base_uri": "https://localhost:8080/"
        },
        "id": "jeULdtLKZxYD",
        "outputId": "a7c16634-76c9-41bd-f5ef-584d5073d807"
      },
      "execution_count": 296,
      "outputs": [
        {
          "output_type": "execute_result",
          "data": {
            "text/plain": [
              "['We',\n",
              " 'are',\n",
              " 'here',\n",
              " 'to',\n",
              " 'laugh',\n",
              " 'at',\n",
              " 'the',\n",
              " 'odds',\n",
              " 'and',\n",
              " 'live',\n",
              " 'our',\n",
              " 'lives',\n",
              " 'so',\n",
              " 'weel',\n",
              " 'that',\n",
              " 'Death',\n",
              " 'will',\n",
              " 'tremble',\n",
              " 'to',\n",
              " 'take',\n",
              " 'us',\n",
              " '.']"
            ]
          },
          "metadata": {},
          "execution_count": 296
        }
      ]
    },
    {
      "cell_type": "code",
      "source": [
        "lemmas = []\n",
        "for palavra in tokens:\n",
        "  lemmas.append(lemmatizer.lemmatize(palavra))\n",
        "lemmas"
      ],
      "metadata": {
        "colab": {
          "base_uri": "https://localhost:8080/"
        },
        "id": "QQfgcDg6ZyeM",
        "outputId": "73067be1-c7c9-4582-8f57-442d9ae29d60"
      },
      "execution_count": 297,
      "outputs": [
        {
          "output_type": "execute_result",
          "data": {
            "text/plain": [
              "['We',\n",
              " 'are',\n",
              " 'here',\n",
              " 'to',\n",
              " 'laugh',\n",
              " 'at',\n",
              " 'the',\n",
              " 'odds',\n",
              " 'and',\n",
              " 'live',\n",
              " 'our',\n",
              " 'life',\n",
              " 'so',\n",
              " 'weel',\n",
              " 'that',\n",
              " 'Death',\n",
              " 'will',\n",
              " 'tremble',\n",
              " 'to',\n",
              " 'take',\n",
              " 'u',\n",
              " '.']"
            ]
          },
          "metadata": {},
          "execution_count": 297
        }
      ]
    },
    {
      "cell_type": "code",
      "source": [
        "texto = \"A man can be himself only so long as he is alone, and if he does not love solitude. He will not love freedom, for it is only when he is alone that he is really free.\"\n",
        "texto"
      ],
      "metadata": {
        "colab": {
          "base_uri": "https://localhost:8080/",
          "height": 35
        },
        "id": "k2-RS7v2aElS",
        "outputId": "b81db653-b983-4043-f804-4eb059c35f05"
      },
      "execution_count": 298,
      "outputs": [
        {
          "output_type": "execute_result",
          "data": {
            "text/plain": [
              "'A man can be himself only so long as he is alone, and if he does not love solitude. He will not love freedom, for it is only when he is alone that he is really free.'"
            ],
            "application/vnd.google.colaboratory.intrinsic+json": {
              "type": "string"
            }
          },
          "metadata": {},
          "execution_count": 298
        }
      ]
    },
    {
      "cell_type": "code",
      "source": [
        "frases = nltk.tokenize.sent_tokenize(texto)\n",
        "print(frases)"
      ],
      "metadata": {
        "colab": {
          "base_uri": "https://localhost:8080/"
        },
        "id": "pCZh5JqnfBsv",
        "outputId": "562ac12f-3c43-458f-d930-0b132740ec3f"
      },
      "execution_count": 299,
      "outputs": [
        {
          "output_type": "stream",
          "name": "stdout",
          "text": [
            "['A man can be himself only so long as he is alone, and if he does not love solitude.', 'He will not love freedom, for it is only when he is alone that he is really free.']\n"
          ]
        }
      ]
    },
    {
      "cell_type": "code",
      "source": [
        "tokens = nltk.word_tokenize(texto)\n",
        "tokens"
      ],
      "metadata": {
        "colab": {
          "base_uri": "https://localhost:8080/"
        },
        "id": "4c6wS1cDfK2D",
        "outputId": "4991abbd-7909-4c18-b678-a4167ef9c5f0"
      },
      "execution_count": 300,
      "outputs": [
        {
          "output_type": "execute_result",
          "data": {
            "text/plain": [
              "['A',\n",
              " 'man',\n",
              " 'can',\n",
              " 'be',\n",
              " 'himself',\n",
              " 'only',\n",
              " 'so',\n",
              " 'long',\n",
              " 'as',\n",
              " 'he',\n",
              " 'is',\n",
              " 'alone',\n",
              " ',',\n",
              " 'and',\n",
              " 'if',\n",
              " 'he',\n",
              " 'does',\n",
              " 'not',\n",
              " 'love',\n",
              " 'solitude',\n",
              " '.',\n",
              " 'He',\n",
              " 'will',\n",
              " 'not',\n",
              " 'love',\n",
              " 'freedom',\n",
              " ',',\n",
              " 'for',\n",
              " 'it',\n",
              " 'is',\n",
              " 'only',\n",
              " 'when',\n",
              " 'he',\n",
              " 'is',\n",
              " 'alone',\n",
              " 'that',\n",
              " 'he',\n",
              " 'is',\n",
              " 'really',\n",
              " 'free',\n",
              " '.']"
            ]
          },
          "metadata": {},
          "execution_count": 300
        }
      ]
    },
    {
      "cell_type": "code",
      "source": [
        "classes = nltk.pos_tag(tokens)\n",
        "classes"
      ],
      "metadata": {
        "colab": {
          "base_uri": "https://localhost:8080/"
        },
        "id": "nG_Rm7rwfdLr",
        "outputId": "2aae46b5-e89a-4c74-84fd-7e4c7ca84abe"
      },
      "execution_count": 301,
      "outputs": [
        {
          "output_type": "execute_result",
          "data": {
            "text/plain": [
              "[('A', 'DT'),\n",
              " ('man', 'NN'),\n",
              " ('can', 'MD'),\n",
              " ('be', 'VB'),\n",
              " ('himself', 'PRP'),\n",
              " ('only', 'RB'),\n",
              " ('so', 'RB'),\n",
              " ('long', 'RB'),\n",
              " ('as', 'IN'),\n",
              " ('he', 'PRP'),\n",
              " ('is', 'VBZ'),\n",
              " ('alone', 'RB'),\n",
              " (',', ','),\n",
              " ('and', 'CC'),\n",
              " ('if', 'IN'),\n",
              " ('he', 'PRP'),\n",
              " ('does', 'VBZ'),\n",
              " ('not', 'RB'),\n",
              " ('love', 'VB'),\n",
              " ('solitude', 'NN'),\n",
              " ('.', '.'),\n",
              " ('He', 'PRP'),\n",
              " ('will', 'MD'),\n",
              " ('not', 'RB'),\n",
              " ('love', 'VB'),\n",
              " ('freedom', 'NN'),\n",
              " (',', ','),\n",
              " ('for', 'IN'),\n",
              " ('it', 'PRP'),\n",
              " ('is', 'VBZ'),\n",
              " ('only', 'RB'),\n",
              " ('when', 'WRB'),\n",
              " ('he', 'PRP'),\n",
              " ('is', 'VBZ'),\n",
              " ('alone', 'RB'),\n",
              " ('that', 'IN'),\n",
              " ('he', 'PRP'),\n",
              " ('is', 'VBZ'),\n",
              " ('really', 'RB'),\n",
              " ('free', 'JJ'),\n",
              " ('.', '.')]"
            ]
          },
          "metadata": {},
          "execution_count": 301
        }
      ]
    },
    {
      "cell_type": "code",
      "source": [
        "entidades = nltk.chunk.ne_chunk(classes)\n",
        "entidades"
      ],
      "metadata": {
        "colab": {
          "base_uri": "https://localhost:8080/",
          "height": 408
        },
        "id": "o2Dor75Cfypk",
        "outputId": "c8f51607-6edb-42e2-e7e0-3f32f5a41745"
      },
      "execution_count": 302,
      "outputs": [
        {
          "output_type": "error",
          "ename": "ModuleNotFoundError",
          "evalue": "ignored",
          "traceback": [
            "\u001b[0;31m---------------------------------------------------------------------------\u001b[0m",
            "\u001b[0;31mModuleNotFoundError\u001b[0m                       Traceback (most recent call last)",
            "\u001b[0;32m/usr/local/lib/python3.7/dist-packages/IPython/core/formatters.py\u001b[0m in \u001b[0;36m__call__\u001b[0;34m(self, obj)\u001b[0m\n\u001b[1;32m    343\u001b[0m             \u001b[0mmethod\u001b[0m \u001b[0;34m=\u001b[0m \u001b[0mget_real_method\u001b[0m\u001b[0;34m(\u001b[0m\u001b[0mobj\u001b[0m\u001b[0;34m,\u001b[0m \u001b[0mself\u001b[0m\u001b[0;34m.\u001b[0m\u001b[0mprint_method\u001b[0m\u001b[0;34m)\u001b[0m\u001b[0;34m\u001b[0m\u001b[0;34m\u001b[0m\u001b[0m\n\u001b[1;32m    344\u001b[0m             \u001b[0;32mif\u001b[0m \u001b[0mmethod\u001b[0m \u001b[0;32mis\u001b[0m \u001b[0;32mnot\u001b[0m \u001b[0;32mNone\u001b[0m\u001b[0;34m:\u001b[0m\u001b[0;34m\u001b[0m\u001b[0;34m\u001b[0m\u001b[0m\n\u001b[0;32m--> 345\u001b[0;31m                 \u001b[0;32mreturn\u001b[0m \u001b[0mmethod\u001b[0m\u001b[0;34m(\u001b[0m\u001b[0;34m)\u001b[0m\u001b[0;34m\u001b[0m\u001b[0;34m\u001b[0m\u001b[0m\n\u001b[0m\u001b[1;32m    346\u001b[0m             \u001b[0;32mreturn\u001b[0m \u001b[0;32mNone\u001b[0m\u001b[0;34m\u001b[0m\u001b[0;34m\u001b[0m\u001b[0m\n\u001b[1;32m    347\u001b[0m         \u001b[0;32melse\u001b[0m\u001b[0;34m:\u001b[0m\u001b[0;34m\u001b[0m\u001b[0;34m\u001b[0m\u001b[0m\n",
            "\u001b[0;32m/usr/local/lib/python3.7/dist-packages/nltk/tree/tree.py\u001b[0m in \u001b[0;36m_repr_svg_\u001b[0;34m(self)\u001b[0m\n\u001b[1;32m    781\u001b[0m \u001b[0;34m\u001b[0m\u001b[0m\n\u001b[1;32m    782\u001b[0m     \u001b[0;32mdef\u001b[0m \u001b[0m_repr_svg_\u001b[0m\u001b[0;34m(\u001b[0m\u001b[0mself\u001b[0m\u001b[0;34m)\u001b[0m\u001b[0;34m:\u001b[0m\u001b[0;34m\u001b[0m\u001b[0;34m\u001b[0m\u001b[0m\n\u001b[0;32m--> 783\u001b[0;31m         \u001b[0;32mfrom\u001b[0m \u001b[0msvgling\u001b[0m \u001b[0;32mimport\u001b[0m \u001b[0mdraw_tree\u001b[0m\u001b[0;34m\u001b[0m\u001b[0;34m\u001b[0m\u001b[0m\n\u001b[0m\u001b[1;32m    784\u001b[0m \u001b[0;34m\u001b[0m\u001b[0m\n\u001b[1;32m    785\u001b[0m         \u001b[0;32mreturn\u001b[0m \u001b[0mdraw_tree\u001b[0m\u001b[0;34m(\u001b[0m\u001b[0mself\u001b[0m\u001b[0;34m)\u001b[0m\u001b[0;34m.\u001b[0m\u001b[0m_repr_svg_\u001b[0m\u001b[0;34m(\u001b[0m\u001b[0;34m)\u001b[0m\u001b[0;34m\u001b[0m\u001b[0;34m\u001b[0m\u001b[0m\n",
            "\u001b[0;31mModuleNotFoundError\u001b[0m: No module named 'svgling'"
          ]
        },
        {
          "output_type": "execute_result",
          "data": {
            "text/plain": [
              "Tree('S', [('A', 'DT'), ('man', 'NN'), ('can', 'MD'), ('be', 'VB'), ('himself', 'PRP'), ('only', 'RB'), ('so', 'RB'), ('long', 'RB'), ('as', 'IN'), ('he', 'PRP'), ('is', 'VBZ'), ('alone', 'RB'), (',', ','), ('and', 'CC'), ('if', 'IN'), ('he', 'PRP'), ('does', 'VBZ'), ('not', 'RB'), ('love', 'VB'), ('solitude', 'NN'), ('.', '.'), ('He', 'PRP'), ('will', 'MD'), ('not', 'RB'), ('love', 'VB'), ('freedom', 'NN'), (',', ','), ('for', 'IN'), ('it', 'PRP'), ('is', 'VBZ'), ('only', 'RB'), ('when', 'WRB'), ('he', 'PRP'), ('is', 'VBZ'), ('alone', 'RB'), ('that', 'IN'), ('he', 'PRP'), ('is', 'VBZ'), ('really', 'RB'), ('free', 'JJ'), ('.', '.')])"
            ]
          },
          "metadata": {},
          "execution_count": 302
        }
      ]
    },
    {
      "cell_type": "code",
      "source": [
        "base = [('eu sou admirada por muitos','alegria'),\n",
        "        ('me sinto completamente amado','alegria'),\n",
        "        ('amar e maravilhoso','alegria'),\n",
        "        ('estou me sentindo muito animado novamente','alegria'),\n",
        "        ('eu estou muito bem hoje','alegria'),\n",
        "        ('que belo dia para dirigir um carro novo','alegria'),\n",
        "        ('o dia está muito bonito','alegria'),\n",
        "        ('estou contente com o resultado do teste que fiz no dia de ontem','alegria'),\n",
        "        ('o amor e lindo','alegria'),\n",
        "        ('nossa amizade e amor vai durar para sempre', 'alegria'),\n",
        "        ('estou amedrontado', 'medo'),\n",
        "        ('ele esta me ameacando a dias', 'medo'),\n",
        "        ('isso me deixa apavorada', 'medo'),\n",
        "        ('este lugar e apavorante', 'medo'),\n",
        "        ('se perdermos outro jogo seremos eliminados e isso me deixa com pavor', 'medo'),\n",
        "        ('tome cuidado com o lobisomem', 'medo'),\n",
        "        ('se eles descobrirem estamos encrencados', 'medo'),\n",
        "        ('estou tremendo de medo', 'medo'),\n",
        "        ('eu tenho muito medo dele', 'medo'),\n",
        "        ('estou com medo do resultado dos meus testes', 'medo')]\n",
        "base"
      ],
      "metadata": {
        "colab": {
          "base_uri": "https://localhost:8080/"
        },
        "id": "MlLBBwnsgGO7",
        "outputId": "c11943ba-0570-4210-fc07-d5167bb585e1"
      },
      "execution_count": 303,
      "outputs": [
        {
          "output_type": "execute_result",
          "data": {
            "text/plain": [
              "[('eu sou admirada por muitos', 'alegria'),\n",
              " ('me sinto completamente amado', 'alegria'),\n",
              " ('amar e maravilhoso', 'alegria'),\n",
              " ('estou me sentindo muito animado novamente', 'alegria'),\n",
              " ('eu estou muito bem hoje', 'alegria'),\n",
              " ('que belo dia para dirigir um carro novo', 'alegria'),\n",
              " ('o dia está muito bonito', 'alegria'),\n",
              " ('estou contente com o resultado do teste que fiz no dia de ontem',\n",
              "  'alegria'),\n",
              " ('o amor e lindo', 'alegria'),\n",
              " ('nossa amizade e amor vai durar para sempre', 'alegria'),\n",
              " ('estou amedrontado', 'medo'),\n",
              " ('ele esta me ameacando a dias', 'medo'),\n",
              " ('isso me deixa apavorada', 'medo'),\n",
              " ('este lugar e apavorante', 'medo'),\n",
              " ('se perdermos outro jogo seremos eliminados e isso me deixa com pavor',\n",
              "  'medo'),\n",
              " ('tome cuidado com o lobisomem', 'medo'),\n",
              " ('se eles descobrirem estamos encrencados', 'medo'),\n",
              " ('estou tremendo de medo', 'medo'),\n",
              " ('eu tenho muito medo dele', 'medo'),\n",
              " ('estou com medo do resultado dos meus testes', 'medo')]"
            ]
          },
          "metadata": {},
          "execution_count": 303
        }
      ]
    },
    {
      "cell_type": "code",
      "source": [
        "# Avaliação de algoritmos\n",
        "basetreinamento = [\n",
        "('este trabalho e agradável','alegria'),\n",
        "('gosto de ficar no seu aconchego','alegria'),\n",
        "('fiz a adesão ao curso hoje','alegria'),\n",
        "('eu sou admirada por muitos','alegria'),\n",
        "('adoro como você e','alegria'),\n",
        "('adoro seu cabelo macio','alegria'),\n",
        "('adoro a cor dos seus olhos','alegria'),\n",
        "('somo tão amáveis um com o outro','alegria'),\n",
        "('sinto uma grande afeição por ele','alegria'),\n",
        "('quero agradar meus filhos','alegria'),\n",
        "('me sinto completamente amado','alegria'),\n",
        "('eu amo você','alegria'),\n",
        "('que grande alivio','alegria'),\n",
        "('a dor esta amenizando finalmente','alegria'),\n",
        "('acho que me apaixonei','alegria'),\n",
        "('amar e maravilhoso','alegria'),\n",
        "('estou me sentindo muito animada','alegria'),\n",
        "('me sinto muito bem hoje','alegria'),\n",
        "('como o luar e belo','alegria'),\n",
        "('o dia esta muito bonito','alegria'),\n",
        "('nossa como sou afortunado','alegria'),\n",
        "('as maravilhas do mundo','alegria'),\n",
        "('recebi muito carinho hoje do meus colegas','alegria'),\n",
        "('estou me sentindo reconfortada hoje','alegria'),\n",
        "('e muito bom estar com os amigos','alegria'),\n",
        "('estou muito contente com o resultado dos testes','alegria'),\n",
        "('essa pintura esta bem brilhante','alegria'),\n",
        "('temos água em abundancia','alegria'),\n",
        "('que roupa delicada','alegria'),\n",
        "('você e um grande comediante','alegria'),\n",
        "('que bondade a sua em vir aqui','alegria'),\n",
        "('o amor e lindo','alegria'),\n",
        "('nossa amizade vai durar para sempre','alegria'),\n",
        "('estou eufórica com a noticia','alegria'),\n",
        "('ele e realmente fiel a mim','alegria'),\n",
        "('vou dar uma grande festa para comemorar meu aniversário','alegria'),\n",
        "('graças a deus que eu enxerguei o certo','alegria'),\n",
        "('essa e a melhor escolhas de todas','alegria'),\n",
        "('o mais incrível e você minha bela','alegria'),\n",
        "('e tão engraçado tentar explicar','alegria'),\n",
        "('e emocionante estar neste lugar','alegria'),\n",
        "('estou cativada pelo seu olhar','alegria'),\n",
        "('estou loucamente apaixonada','alegria'),\n",
        "('eu nunca tive duvidas','alegria'),\n",
        "('estou rodeada pelo seu abraço','alegria'),\n",
        "('eu vejo estrelas pelo caminho','alegria'),\n",
        "('eu sinto o sol sempre que você esta por perto','alegria'),\n",
        "('eu estou sorrindo de orelha a orelha','alegria'),\n",
        "('isso vale a pena','alegria'),\n",
        "('finalmente você colocou meu amor em primeiro lugar','alegria'),\n",
        "('nós dançamos noite adentro','alegria'),\n",
        "('seu amor e brilhante','alegria'),\n",
        "('toquei muitos corações durante o meu caminho','alegria'),\n",
        "('eu serei sua amiga e companheira','alegria'),\n",
        "('você me traz de volta a vida','alegria'),\n",
        "('você e como um sonho doce','alegria'),\n",
        "('adoro este doce de frutas','alegria'),\n",
        "('meu suco favorito','alegria'),\n",
        "('estou agradecida pela ajuda','alegria'),\n",
        "('e um enorme prazer ter você em nossa equipe','alegria'),\n",
        "('trabalhar em equipe e o melhor','alegria'),\n",
        "('me sinto flutuando no ar','alegria'),\n",
        "('a brisa esta agradável hoje','alegria'),\n",
        "('ótimo e compatível','alegria'),\n",
        "('somos compatíveis um com o outro','alegria'),\n",
        "('o órgão e compatível com o paciente','alegria'),\n",
        "('estou contente fui aceita na faculdade','alegria'),\n",
        "('fui aprovada no meu exame','alegria'),\n",
        "('fui beneficiada pela minha empresa','alegria'),\n",
        "('eu sou muito cativante','alegria'),\n",
        "('estou contente com o apoio','alegria'),\n",
        "('como este lugar e confortável','alegria'),\n",
        "('e bom estar quente neste frio','alegria'),\n",
        "('um elogio nunca e demais','alegria'),\n",
        "('vou te chamar para comemorar','alegria'),\n",
        "('e desejável a sua presença em nossa apresentação','alegria'),\n",
        "('sou muito grata a você','alegria'),\n",
        "('me dedico muito naquilo que faço','alegria'),\n",
        "('estou completamente apaixonada ','alegria'),\n",
        "('vamos agitar essa noite ','alegria'),\n",
        "('você significa muito para mim','alegria'),\n",
        "('vamos agir sem preconceitos e julgamentos','alegria'),\n",
        "('finalmente completei a minha coleção, maravilhoso','alegria'),\n",
        "('eu sou sua rainha ','alegria'),\n",
        "('satisfatoriamente eu anuncio o vencedor dos jogos','alegria'),\n",
        "('você me atrai facilmente ','alegria'),\n",
        "('aquele rapaz e extremamente atraente','alegria'),\n",
        "('sinto-me viva ','alegria'),\n",
        "('sinto-me em paz ','alegria'),\n",
        "('estamos tendo muito lucro','alegria'),\n",
        "('muito bem esta tudo em ordem agora ','alegria'),\n",
        "('podemos arrumar um emprego juntos ','alegria'),\n",
        "('a arrumação esta terminada, que alívio','alegria'),\n",
        "('o câncer e benigno ','alegria'),\n",
        "('o amor e abundante','alegria'),\n",
        "('vamos ser caridosos este natal','alegria'),\n",
        "('com todo esse charme você irá atrair a todos','alegria'),\n",
        "('nossa como você e charmoso querido ','alegria'),\n",
        "('sou querida pelos meu amigos','alegria'),\n",
        "('seja cuidadoso com os meus sentimentos','alegria'),\n",
        "('estou comovido com tamanha caridade','alegria'),\n",
        "('um chá quente e reconfortante','alegria'),\n",
        "('que alegria ter vocês aqui ','alegria'),\n",
        "('vamos aplaudir o vencedor ','alegria'),\n",
        "('palmas para a aniversariante','alegria'),\n",
        "('desejo a você tudo de bom','alegria'),\n",
        "('hora de apreciar um bom vinho','alegria'),\n",
        "('aprecio sua presença em minha escola','alegria'),\n",
        "('anseio por seus próximos trabalhos','alegria'),\n",
        "('maravilhoso jogo amistoso','alegria'),\n",
        "('e ótimo que os ânimos tenham se apaziguado','alegria'),\n",
        "('concretizei finalmente meu sonho','alegria'),\n",
        "\n",
        "('você e abominável','desgosto'),\n",
        "('abomino a maneira como você age','desgosto'),\n",
        "('estou adoentado','desgosto'),\n",
        "('meu pai esta adoentado','desgosto'),\n",
        "('estamos todos doentes','desgosto'),\n",
        "('essa situação e muito amarga','desgosto'),\n",
        "('disse adeus amargamente','desgosto'),\n",
        "('tenho antipatia por aquela pessoa','desgosto'),\n",
        "('como pode ser tão antipática!','desgosto'),\n",
        "('que horrível seu asqueroso','desgosto'),\n",
        "('tenho aversão agente como você','desgosto'),\n",
        "('isso tudo e só chateação','desgosto'),\n",
        "('estou muito chateada com suas mentiras','desgosto'),\n",
        "('tão desagradável','desgosto'),\n",
        "('isso me desagrada completamente','desgosto'),\n",
        "('te desagrada isso','desgosto'),\n",
        "('estou com enjôos terríveis','desgosto'),\n",
        "('todos estão enfermos','desgosto'),\n",
        "('foi uma enfermidade terrível','desgosto'),\n",
        "('isso e muito grave','desgosto'),\n",
        "('não seja tão grosseiro','desgosto'),\n",
        "('você fez uma manobra ilegal','desgosto'),\n",
        "('sua indecente, não tem vergonha?','desgosto'),\n",
        "('você e malvado com as crianças','desgosto'),\n",
        "('que comentário maldoso','desgosto'),\n",
        "('sem escrúpulos você manipula a tudo','desgosto'),\n",
        "('sinto repulsa por você','desgosto'),\n",
        "('e repulsivo a maneira como olha para as pessoas','desgosto'),\n",
        "('estou indisposta','desgosto'),\n",
        "('a indisposição me atacou hoje','desgosto'),\n",
        "('acho que vou vomitar','desgosto'),\n",
        "('tem muito vomito lá','desgosto'),\n",
        "('que incomodo essa dor','desgosto'),\n",
        "('não me incomode nunca mais','desgosto'),\n",
        "('suas bobagens estão nos incomodando','desgosto'),\n",
        "('que nojo olha toda essa sujeira','desgosto'),\n",
        "('como isso está sujo','desgosto'),\n",
        "('tenho náuseas só de lembrar','desgosto'),\n",
        "('me sinto nauseada com o cheiro desta comida','desgosto'),\n",
        "('você esta obstruindo a passagem de ar','desgosto'),\n",
        "('você esta terrivelmente doente','desgosto'),\n",
        "('olhe que feia esta roupa','desgosto'),\n",
        "('que atitude deplorável','desgosto'),\n",
        "('nossa como você e feio','desgosto'),\n",
        "('muito mau tudo isso','desgosto'),\n",
        "('estou desgostoso com você','desgosto'),\n",
        "('você cortou o meu assunto','desgosto'),\n",
        "('para que tanta chateação?','desgosto'),\n",
        "('esse perfume e enjoativo','desgosto'),\n",
        "('ser perigoso não nada bom','desgosto'),\n",
        "('você e perigoso demais para minha filhas','desgosto'),\n",
        "('que fetido este esgoto','desgosto'),\n",
        "('que fedido você esta','desgosto'),\n",
        "('que cachorro malcheiroso','desgosto'),\n",
        "('hora que ultraje','desgosto'),\n",
        "('e ultrajante da sua parte','desgosto'),\n",
        "('situação desagradável essa','desgosto'),\n",
        "('você só me da desgosto','desgosto'),\n",
        "('tenho aversão a pessoas assim','desgosto'),\n",
        "('antipatia e um mal da sociedade','desgosto'),\n",
        "('que criatura abominável','desgosto'),\n",
        "('e depressiva a maneira como você vê o mundo','desgosto'),\n",
        "('me desagrada sua presença na festa','desgosto'),\n",
        "('sinto asco dessa coisa','desgosto'),\n",
        "('que hediondo!','desgosto'),\n",
        "('vou golfar o cafe fora','desgosto'),\n",
        "('hora que garota detestável!','desgosto'),\n",
        "('estou nauseada','desgosto'),\n",
        "('isso que você disse foi muito grave','desgosto'),\n",
        "('não seja obsceno na frente das crianças','desgosto'),\n",
        "('não seja rude com as visitas','desgosto'),\n",
        "('esse assunto me da repulsa','desgosto'),\n",
        "('que criança terrivelmente travessa','desgosto'),\n",
        "('que criança mal educada','desgosto'),\n",
        "('estou indisposta te dar o divorcio','desgosto'),\n",
        "('tão patetico, não tem nada mais rude para dizer?','desgosto'),\n",
        "('por motivo torpe, com emprego de meio cruel e com impossibilidade de defesa para a vítima','desgosto'),\n",
        "('a inveja e tão vil e vergonhosa que ninguem se atreve a confessá-la','desgosto'),\n",
        "('o miserável receio de ser sentimental e o mais vil de todos os receios modernos','desgosto'),\n",
        "('travesso gato quando fica com saudades do dono mija no sapato','desgosto'),\n",
        "('isso e um ato detestável e covarde','desgosto'),\n",
        "('revelam apenas o que e destrutivo e detestável para o povo','desgosto'),\n",
        "('não sei como e a vida de um patife, mais a de um homem honesto e abominável','desgosto'),\n",
        "('há coisas que temos que suportar para não acharmos a vida insuportável','desgosto'),\n",
        "('as injurias do tempo e as injustiças do homem','desgosto'),\n",
        "('odioso e desumano','desgosto'),\n",
        "('você não publicará conteúdo odiento, pornográfico ou ameaçador','desgosto'),\n",
        "('rancoroso e reprimido','desgosto'),\n",
        "('não há animal mais degradante, estúpido, covarde, lamentável, egoísta, rancoroso e invejoso do que o homem','desgosto'),\n",
        "('o virulento debate ente políticos','desgosto'),\n",
        "\n",
        "('eu imploro, não me matem!','medo'),\n",
        "('tem certeza que não e perigoso?','medo'),\n",
        "('não tenho certeza se e seguro','medo'),\n",
        "('tenho que correr pra não me pegarem','medo'),\n",
        "('socorro! ele queria roubar os meus doces!','medo'),\n",
        "('esse cara está me perseguindo','medo'),\n",
        "('não entro lá, e um lugar muito perigoso','medo'),\n",
        "('este lugar continua assustador','medo'),\n",
        "('na selva tem muitos animais perigosos','medo'),\n",
        "('avancem com cautela','medo'),\n",
        "('este lugar está silencioso de mais, cuidado!','medo'),\n",
        "('por favor, deixe-me viver!','medo'),\n",
        "('vou ficar sem mesada se tirar nota baixa','medo'),\n",
        "('parece que tem olhos nos vigiando','medo'),\n",
        "('eu temo que a sentença do juiz possa ser negativa','medo'),\n",
        "('mas essa missão e arriscada','medo'),\n",
        "('salvem-se quem puder!','medo'),\n",
        "('meu plano pode ser descoberto','medo'),\n",
        "('não tive culpa, juro não fui eu','medo'),\n",
        "('tenho que tomar cuidado com o lobisomem','medo'),\n",
        "('se eu não achar, ele vai descobrir a verdade','medo'),\n",
        "('meu deus, ele desapareceu!','medo'),\n",
        "('tomara que eles não me vejam daqui!','medo'),\n",
        "('mantenha isso em segredo, se descobrirem estaremos ferrados','medo'),\n",
        "('por favor, me soltem, eu sou inocente','medo'),\n",
        "('estou ouvindo passos atrás de mim','medo'),\n",
        "('eu vou pedir socorro!','medo'),\n",
        "('cuidado com as curvas na estrada','medo'),\n",
        "('não sei não, parece perigoso','medo'),\n",
        "('estou tremendo de medo!','medo'),\n",
        "('socorro, eu vou cair!','medo'),\n",
        "('eu não vou ate a floresta negra, e muito perigoso','medo'),\n",
        "('ouço passos na minha direção','medo'),\n",
        "('acho que está arriscado de mais','medo'),\n",
        "('vamos voltar, e muito perigoso','medo'),\n",
        "('fuja, se não acabaremos mortos','medo'),\n",
        "('receio por não me livrar desta situação','medo'),\n",
        "('socorro! ele está armado!','medo'),\n",
        "('ei cuidado, você vai bater no poste!','medo'),\n",
        "('socorro, nós estamos afundando','medo'),\n",
        "('e serio, cuidado com essa arma!','medo'),\n",
        "('os tubarões estão atacando!','medo'),\n",
        "('sinto arrepios quando fico sozinho no escuro','medo'),\n",
        "('calma, eu não estou com o dinheiro','medo'),\n",
        "('eu acho que estou sendo enganado','medo'),\n",
        "('ligeiro, temos que fugir depressa','medo'),\n",
        "('tem um crocodilo selvagem vindo para cá','medo'),\n",
        "('se ficarmos quietos eles não vão nos achar','medo'),\n",
        "('fuja! o tigre parece faminto','medo'),\n",
        "('estou sem saída, preciso de um milagre','medo'),\n",
        "('tire isso de mim! socorro!','medo'),\n",
        "('não sei nadar, vou me afogar!','medo'),\n",
        "('não tenho certeza se e seguro','medo'),\n",
        "('vou apanhar se meus pais verem meu boletim','medo'),\n",
        "('não consigo sair daqui!','medo'),\n",
        "('se sair tão tarde, poderei ser assaltada','medo'),\n",
        "('não me deixe por favor!','medo'),\n",
        "('espere, não pode me largar aqui sozinho','medo'),\n",
        "('temo pela sua segurança','medo'),\n",
        "('eu te entrego o dinheiro, por favor não me mate!','medo'),\n",
        "('ele vai levar todo o meu dinheiro','medo'),\n",
        "('não dirija tão rápido assim','medo'),\n",
        "('me descobriram, irão me prender!','medo'),\n",
        "('só espero que não me façam nenhum mal','medo'),\n",
        "('vou me afogar, me ajudem a sair da água','medo'),\n",
        "('não estaremos a salvo aqui','medo'),\n",
        "('não quero nem pensar no que pode acontecer','medo'),\n",
        "('nessa cidade e uma desgraça atrás da outra','medo'),\n",
        "('alguem esta me ligando, estou assustado','medo'),\n",
        "('isso não e remedio, não me matem','medo'),\n",
        "('eu não confio nele, tenho que ter cautela','medo'),\n",
        "('muita cautela','medo'),\n",
        "('vou ser descoberto, meu deus','medo'),\n",
        "('receio que terei de ir','medo'),\n",
        "('a noite e muito perigosa','medo'),\n",
        "('estou estremecendo com essa casa','medo'),\n",
        "('olha aquela criatura se movendo monstruosamente','medo'),\n",
        "('não agüento este suspense','medo'),\n",
        "('afugente os cães','medo'),\n",
        "('estou chocado e amedrontado com este assassinato brutal','medo'),\n",
        "('e preciso afugenta com ímpeto este medo do inferno','medo'),\n",
        "('seu políticos usam suas forças para afugentar e amedrontar o povo','medo'),\n",
        "('o objetivo disso e apenas me amedrontar mais','medo'),\n",
        "('isso me apavora','medo'),\n",
        "\n",
        "('ele a feriu profundamente','raiva'),\n",
        "('vou despejar minha cólera em você','raiva'),\n",
        "('me sinto atormentado','raiva'),\n",
        "('não me contrarie','raiva'),\n",
        "('vou destruir tudo  que foi construído','raiva'),\n",
        "('não consigo terminar este trabalho, e muito frustrante','raiva'),\n",
        "('me frustra a sua presença aqui','raiva'),\n",
        "('esta comida me parece muito ruim','raiva'),\n",
        "('você me destrói','raiva'),\n",
        "('estamos separados','raiva'),\n",
        "('estou odiando este vestido','raiva'),\n",
        "('não pude comprar meu celular hoje','raiva'),\n",
        "('ela e uma garota ruim','raiva'),\n",
        "('estivemos em um show horroroso','raiva'),\n",
        "('o ingresso estava muito caro','raiva'),\n",
        "('se eu estragar tudo vai por água a baixo','raiva'),\n",
        "('não possuo dinheiro algum','raiva'),\n",
        "('sou muito pobre','raiva'),\n",
        "('vai prejudicar a todos esta nova medida','raiva'),\n",
        "('ficou ridículo','raiva'),\n",
        "('este sapato esta muito apertado','raiva'),\n",
        "('a musica e uma ofensa aos meus ouvidos','raiva'),\n",
        "('não consigo terminar uma tarefa muito difícil','raiva'),\n",
        "('reprovei em minha graduação','raiva'),\n",
        "('estou muito chateado com tudo','raiva'),\n",
        "('eu odeio em você','raiva'),\n",
        "('e um desprazer conhecê-lo','raiva'),\n",
        "('estou desperdiçando minhas ferias','raiva'),\n",
        "('e muito ruim este jogo','raiva'),\n",
        "('vamos ter muito rancor pela frente','raiva'),\n",
        "('não achei que seria tão terrível','raiva'),\n",
        "('vou vetar o orçamento ao cliente','raiva'),\n",
        "('meus pais não consentiram nosso casamento','raiva'),\n",
        "('eu odiei este perfume','raiva'),\n",
        "('seu descaso e frustrante','raiva'),\n",
        "('me sinto completamente amarga','raiva'),\n",
        "('desprezo muito o seu trabalho','raiva'),\n",
        "('estamos descontentes por nossa família','raiva'),\n",
        "('vou infernizar a sua empresa','raiva'),\n",
        "('estou furioso com estes valores','raiva'),\n",
        "('obrigaram o rapaz a sair','raiva'),\n",
        "('como ele pode deixar de lado?','raiva'),\n",
        "('são apenas injurias sobre mim','raiva'),\n",
        "('estou enfurecido com a situação dessa empresa','raiva'),\n",
        "('estou com o diabo no corpo','raiva'),\n",
        "('isso foi diabólico','raiva'),\n",
        "('tenho aversão à gente chata','raiva'),\n",
        "('não vou perdoar sua traição','raiva'),\n",
        "('esse dinheiro sujo e corrupto','raiva'),\n",
        "('eles me crucificam o tempo todo','raiva'),\n",
        "('eu vou enlouquecer com todo este barulho','raiva'),\n",
        "('não agüento todo esse assedio','raiva'),\n",
        "('cólera do dragão','raiva'),\n",
        "('isso e ridículo!','raiva'),\n",
        "('da próxima vez, vou inventar tudo sozinho','raiva'),\n",
        "('seus tolos! deixaram ele escapar!','raiva'),\n",
        "('jamais te perdoarei','raiva'),\n",
        "('o que e isso? outra multa','raiva'),\n",
        "('você passou dos limites!','raiva'),\n",
        "('sente-se e cale a boca','raiva'),\n",
        "('ingratosvermesvocês me pagam!','raiva'),\n",
        "('saiam da dai, se não arranco vocês dai!','raiva'),\n",
        "('você já me causou problemas suficientes','raiva'),\n",
        "('isso foi a gota d’agua','raiva'),\n",
        "('o que você tem com isso?','raiva'),\n",
        "('não vejo a hora de me livrar de você','raiva'),\n",
        "('já entendi a jogada seus safados!','raiva'),\n",
        "('você não merece piedade','raiva'),\n",
        "('saia de perto de mim','raiva'),\n",
        "('suma daqui, ou arranco seu couro!','raiva'),\n",
        "('estou revoltado com essa situação','raiva'),\n",
        "('seu idiota!','raiva'),\n",
        "('não, eu não vou te emprestar dinheiro!','raiva'),\n",
        "('você não passa de um cafajeste! vai embora','raiva'),\n",
        "('pare de frescura e vá trabalhar','raiva'),\n",
        "('eles merecem uma lição','raiva'),\n",
        "('ainda estou muito bravo com você','raiva'),\n",
        "('eu preciso surrar aquela chantagista','raiva'),\n",
        "('olha o que você fez! derramou!','raiva'),\n",
        "('você está pedindo pra apanhar!','raiva'),\n",
        "('me deixa em paz!','raiva'),\n",
        "('morra maldito, morra!','raiva'),\n",
        "('você e mais irritante de perto','raiva'),\n",
        "('e bom fechar o bico','raiva'),\n",
        "\n",
        "('magicamente você me surpreendeu','surpresa'),\n",
        "('e imenso esse globo','surpresa'),\n",
        "('isso e tremendamente interessante','surpresa'),\n",
        "('meu bilhete for sorteado, inacreditável!','surpresa'),\n",
        "('um assalto a mão armada!','surpresa'),\n",
        "('incrível, cabe em qualquer lugar!','surpresa'),\n",
        "('você por aqui?','surpresa'),\n",
        "('não dá pra acreditar no que ela me contou','surpresa'),\n",
        "('os convidados já estão chegando!','surpresa'),\n",
        "('puxa vida! nunca nos livramos de alguem tão depressa','surpresa'),\n",
        "('micha carteira sumiu, eu estava com ela na mão','surpresa'),\n",
        "('oh! um disco voador','surpresa'),\n",
        "('amigos, que bela surpresa!','surpresa'),\n",
        "('nunca pensei que veria isso e perto','surpresa'),\n",
        "('nem acredito que comi tanto','surpresa'),\n",
        "('não acredito que veio me ver','surpresa'),\n",
        "('não acredito que e  tão descarado','surpresa'),\n",
        "('me surpreende sua falta de tato','surpresa'),\n",
        "('o predio onde eles moravam desabou!','surpresa'),\n",
        "('inacreditável um bolo tão grande','surpresa'),\n",
        "('e serio mesmo? não dá pra acreditar','surpresa'),\n",
        "('como assim não vai ao nosso encontro?','surpresa'),\n",
        "('como assim não tem ninguem em casa?','surpresa'),\n",
        "('ue, mas para onde ele foi?!','surpresa'),\n",
        "('por essa eu não esperava','surpresa'),\n",
        "('nossa, olha só que mergulho','surpresa'),\n",
        "('minha esposa está grávida!','surpresa'),\n",
        "('meu dinheiro sumiu!','surpresa'),\n",
        "('e verdade que os dois terminaram?!?','surpresa'),\n",
        "('caramba, nem vi você chegar','surpresa'),\n",
        "('nossa, como pode alguem cozinhar tão mal?','surpresa'),\n",
        "('nossa que incrível','surpresa'),\n",
        "('a fórmula sumiu!','surpresa'),\n",
        "('eu nem acredito que já estou terminando o curso','surpresa'),\n",
        "('não acredito que esta aqui comigo novamente','surpresa'),\n",
        "('está escondendo algo de nós!','surpresa'),\n",
        "('como assim, ainda não terminou a tarefa','surpresa'),\n",
        "('pensei que já estivesse pronta!','surpresa'),\n",
        "('opa! quem apagou a luz?','surpresa'),\n",
        "('caramba! aonde vai tão rápido?','surpresa'),\n",
        "('estamos seguindo o caminho errado!','surpresa'),\n",
        "('quatro reais o litro da gasolina!','surpresa'),\n",
        "('me assustei ao vê-lo desse jeito!','surpresa'),\n",
        "('minha mãe está grávida, acredita nisso?','surpresa'),\n",
        "('parece mentira você ter crescido tanto','surpresa'),\n",
        "('me surpreende sua imaginação','surpresa'),\n",
        "('suas roupas são realmente lindas','surpresa'),\n",
        "('com consegue ser tão bela?','surpresa'),\n",
        "('essa e realmente uma casa deslumbrante','surpresa'),\n",
        "('superou minhas expectativas','surpresa'),\n",
        "('e admirável a maneira como se comporta','surpresa'),\n",
        "('isso e realmente chocante','surpresa'),\n",
        "('algumas noticias me surpreenderam no noticiário','surpresa'),\n",
        "('surpreendente sua festa','surpresa'),\n",
        "('estou tremendo de alegria','surpresa'),\n",
        "('chocou grande parte do mundo','surpresa'),\n",
        "('eu ficaria muito espantado com a sua vinda','surpresa'),\n",
        "('ele e admirável','surpresa'),\n",
        "('sua beleza me surpreendeu','surpresa'),\n",
        "('seus olhos são surpreendentemente verdes','surpresa'),\n",
        "('os políticos se surpreendem quando alguem acredita neles','surpresa'),\n",
        "('estou perplexa com essas denuncias','surpresa'),\n",
        "('fiquei perplexo com suas palavras','surpresa'),\n",
        "('estou abismado com sua prosa','surpresa'),\n",
        "('eu ficaria realmente abismado se me dissessem isso','surpresa'),\n",
        "('o grupo foi surpreendido enquanto lavava o carro','surpresa'),\n",
        "('estou boquiaberto com as imagens','surpresa'),\n",
        "('estou boquiaberto com essas suas palavras','surpresa'),\n",
        "('esse quadro e maravilhoso','surpresa'),\n",
        "('este carro me deixou maravilhado','surpresa'),\n",
        "('estou maravilhada','surpresa'),\n",
        "('essa expectativa esta me matando','surpresa'),\n",
        "('vou caminhar sempre na expectativa de encontrá-lo','surpresa'),\n",
        "('você emudece minhas palavras','surpresa'),\n",
        "('minhas palavras vão emudecer se não parar de me surpreender','surpresa'),\n",
        "('a mulher e um efeito deslumbrante da natureza','surpresa'),\n",
        "('estou deslumbrada com essas jóias','surpresa'),\n",
        "('isso e romântico e deslumbrante','surpresa'),\n",
        "('isso pode ser surpreendentemente deslumbrante','surpresa'),\n",
        "('trabalho deslumbrante','surpresa'),\n",
        "('essas pessoas são esplêndida','surpresa'),\n",
        "('e esplendido como o ceu se encontra no momento','surpresa'),\n",
        "('e um carro fantástico','surpresa'),\n",
        "('um edifício realmente fantástico','surpresa'),\n",
        "\n",
        "('por favor não me abandone','tristeza'),\n",
        "('não quero ficar sozinha','tristeza'),\n",
        "('não me deixe sozinha','tristeza'),\n",
        "('estou abatida','tristeza'),\n",
        "('ele esta todo abatido','tristeza'),\n",
        "('tão triste suas palavras','tristeza'),\n",
        "('seu amor não e mais meu','tristeza'),\n",
        "('estou aborrecida','tristeza'),\n",
        "('isso vai me aborrecer','tristeza'),\n",
        "('estou com muita aflição','tristeza'),\n",
        "('me aflige o modo como fala','tristeza'),\n",
        "('estou em agonia com meu intimo','tristeza'),\n",
        "('não quero fazer nada','tristeza'),\n",
        "('me sinto ansiosa e tensa','tristeza'),\n",
        "('não consigo parar de chorar','tristeza'),\n",
        "('não consigo segurar as lagrimas','tristeza'),\n",
        "('e muita dor perder um ente querido','tristeza'),\n",
        "('estou realmente arrependida','tristeza'),\n",
        "('acho que o carma volta, pois agora sou eu quem sofro','tristeza'),\n",
        "('você não cumpriu suas promessas','tristeza'),\n",
        "('me sinto amargurada','tristeza'),\n",
        "('coitado esta tão triste','tristeza'),\n",
        "('já e tarde de mais','tristeza'),\n",
        "('nosso amor acabou','tristeza'),\n",
        "('essa noite machuca só para mim','tristeza'),\n",
        "('eu não estou mais no seu coração','tristeza'),\n",
        "('você mudou comigo','tristeza'),\n",
        "('quando eu penso em você realmente dói','tristeza'),\n",
        "('como se fosse nada você vê minhas lagrimas','tristeza'),\n",
        "('você disse cruelmente que não se arrependeu','tristeza'),\n",
        "('eu nunca mais vou te ver','tristeza'),\n",
        "('ela esta com depressão','tristeza'),\n",
        "('a depressão aflige as pessoas','tristeza'),\n",
        "('estar depressivo e muito ruim','tristeza'),\n",
        "('estou derrotada e deprimida depois deste dia','tristeza'),\n",
        "('e comovente te ver dessa maneira','tristeza'),\n",
        "('e comovente ver o que os filhos do brasil passam','tristeza'),\n",
        "('como me sinto culpada','tristeza'),\n",
        "('estou abatida','tristeza'),\n",
        "('a ansiedade tomou conta de mim','tristeza'),\n",
        "('as pessoas não gostam do meu jeito','tristeza'),\n",
        "('adeus passamos bons momentos juntos','tristeza'),\n",
        "('sinto sua falta','tristeza'),\n",
        "('ele não gostou da minha comida','tristeza'),\n",
        "('estou sem dinheiro para a comida','tristeza'),\n",
        "('queria que fosse o ultimo dia da minha vida','tristeza'),\n",
        "('você está com vergonha de mim','tristeza'),\n",
        "('ela não aceitou a minha proposta','tristeza'),\n",
        "('era o meu ultimo centavo','tristeza'),\n",
        "('reprovei de ano na faculdade','tristeza'),\n",
        "('afinal você só sabe me desfazer','tristeza'),\n",
        "('eu falhei em tudo nessa vida','tristeza'),\n",
        "('eu fui muito humilhado','tristeza'),\n",
        "('e uma história muito triste','tristeza'),\n",
        "('ninguem acredita em mim','tristeza'),\n",
        "('eu não sirvo para nada mesmo','tristeza'),\n",
        "('droga, não faço nada direito','tristeza'),\n",
        "('sofrimento em dobro na minha vida','tristeza'),\n",
        "('fui demitida essa semana','tristeza'),\n",
        "('as crianças sofrem ainda mais que os adultos','tristeza'),\n",
        "('pra mim um dia e ruim, o outro e pior','tristeza'),\n",
        "('de repente perdi o apetite','tristeza'),\n",
        "('oh que dia infeliz','tristeza'),\n",
        "('estamos afundados em contas','tristeza'),\n",
        "('nem um milagre pode nos salvar','tristeza'),\n",
        "('só me resta a esperança','tristeza'),\n",
        "('pior que isso não pode ficar','tristeza'),\n",
        "('meu salário e baixo','tristeza'),\n",
        "('não passei no vestibular','tristeza'),\n",
        "('ninguem se importa comigo','tristeza'),\n",
        "('ninguem lembrou do meu aniversário','tristeza'),\n",
        "('tenho tanto azar','tristeza'),\n",
        "('o gosto da vingança e amargo','tristeza'),\n",
        "('sou uma mulher amargurada depois de que você me deixou','tristeza'),\n",
        "('estou desanimada com a vida','tristeza'),\n",
        "('e um desanimo só coitadinha','tristeza'),\n",
        "('a derrota e depressiva','tristeza'),\n",
        "('discriminar e desumano','tristeza'),\n",
        "('que desanimo','tristeza'),\n",
        "('e uma desonra para o pais','tristeza'),\n",
        "('a preocupação deveria nos levar a ação não a depressão','tristeza'),\n",
        "('passamos ao desalento e a loucura','tristeza'),\n",
        "('aquele que nunca viu a tristeza nunca reconhecerá a alegria','tristeza'),\n",
        "('cuidado com a tristeza ela e um vicio','tristeza')]\n",
        "\n",
        "baseteste =[('não precisei pagar o ingresso','alegria'),\n",
        "('se eu ajeitar tudo fica bem','alegria'),\n",
        "('minha fortuna ultrapassa a sua','alegria'),\n",
        "('sou muito afortunado','alegria'),\n",
        "('e benefico para todos esta nova medida','alegria'),\n",
        "('ficou lindo','alegria'),\n",
        "('achei esse sapato muito simpático','alegria'),\n",
        "('estou ansiosa pela sua chegada','alegria'),\n",
        "('congratulações pelo seu aniversário','alegria'),\n",
        "('delicadamente ele a colocou para dormir','alegria'),\n",
        "('a musica e linda','alegria'),\n",
        "('sem musica eu não vivo','alegria'),\n",
        "('conclui uma tarefa muito difícil','alegria'),\n",
        "('conclui minha graduação','alegria'),\n",
        "('estou muito contente com tudo','alegria'),\n",
        "('eu confio em você','alegria'),\n",
        "('e um prazer conhecê-lo','alegria'),\n",
        "('o coleguismo de vocês e animador','alegria'),\n",
        "('estou aproveitando as ferias','alegria'),\n",
        "('vamos aproveitar as ferias','alegria'),\n",
        "('e muito divertido este jogo','alegria'),\n",
        "('vamos ter muita diversão','alegria'),\n",
        "('não achei que me divertiria tanto assim','alegria'),\n",
        "('vou consentir o orçamento ao cliente','alegria'),\n",
        "('com o consentimento dos meus pais podemos nos casar','alegria'),\n",
        "('eu adorei este perfume','alegria'),\n",
        "('sua bondade e cativante','alegria'),\n",
        "('estou despreocupada','alegria'),\n",
        "('não me preocupo com o que aconteceu','alegria'),\n",
        "('me sinto completamente segura','alegria'),\n",
        "('estimo muito o seu trabalho','alegria'),\n",
        "('somos estimados por nossa família','alegria'),\n",
        "('concretizamos nossa ideia','alegria'),\n",
        "('nosso ideal foi alcançado','alegria'),\n",
        "('estamos muito felizes juntos','alegria'),\n",
        "('estou tão animada com os preparativos para o casamento','alegria'),\n",
        "('você será muito amado meu filho','alegria'),\n",
        "('os apaixonados são maravilhosos','alegria'),\n",
        "('agradeço imensamente o seu apoio nestes dias','alegria'),\n",
        "('esta comida me parece muito atraente','alegria'),\n",
        "('você me completa','alegria'),\n",
        "('poderemos completar o projeto hoje!','alegria'),\n",
        "('estamos namorando','alegria'),\n",
        "('estou namorando este vestido a um tempo','alegria'),\n",
        "('pude comprar meu celular hoje','alegria'),\n",
        "('e um deleite poder compartilhar minhas vitórias','alegria'),\n",
        "('ela e um boa garota','alegria'),\n",
        "('estivemos em um ótimo show','alegria'),\n",
        "\n",
        "('o mundo e feio como o pecado','desgosto'),\n",
        "('a coisa mais difícil de esconder e aquilo que não existe','desgosto'),\n",
        "('você errou feio aquele gol','desgosto'),\n",
        "('nunca vou me casar sou muito feia','desgosto'),\n",
        "('os golpes da adversidade são terrivelmente amargos','desgosto'),\n",
        "('os homem ficam terrivelmente chatos','desgosto'),\n",
        "('abominavelmente convencido','desgosto'),\n",
        "('terrivelmente irritado','desgosto'),\n",
        "('as instituições publicas estão terrivelmente decadentes','desgosto'),\n",
        "('a população viveu em isolamento por muito tempo','desgosto'),\n",
        "('estou terrivelmente preocupada','desgosto'),\n",
        "('o nacionalismo e uma doença infantil','desgosto'),\n",
        "('se me es antipático a minha negação esta pronta','desgosto'),\n",
        "('muitos documentários sobre esse casal antipático','desgosto'),\n",
        "('sua beleza não desfaça sua antipatia','desgosto'),\n",
        "('esta e uma experiência desagradável','desgosto'),\n",
        "('desagradável estrago nos banheiros','desgosto'),\n",
        "('o mais irritante no amor e que se trata de um crime que precisa de um cúmplice','desgosto'),\n",
        "('a situação nos causa grande incomodo','desgosto'),\n",
        "('estou preocupado com o incomodo na garganta','desgosto'),\n",
        "('simplesmente não quero amolação da policia','desgosto'),\n",
        "('você e uma criaturinha muito impertinente','desgosto'),\n",
        "('o peso e a dor da vida','desgosto'),\n",
        "('me arrependo amargamente de minhas ações','desgosto'),\n",
        "('o destino e cruel e os homens não são dignos de compaixão','desgosto'),\n",
        "('o ódio conduz ao isolamento cruel e ao desespero','desgosto'),\n",
        "('encerrou com o massacre mais repudiável e asqueroso que se conhece','desgosto'),\n",
        "('de mal gosto e asqueroso','desgosto'),\n",
        "('tudo e inserto neste mundo hediondo','desgosto'),\n",
        "('o crime de corrupção e um crime hediondo','desgosto'),\n",
        "('o rio esta fetido e de cor escura','desgosto'),\n",
        "('muito lixo no rio o deixa malcheiroso','desgosto'),\n",
        "('existe uma laranja podre no grupo e já desconfiamos quem e','desgosto'),\n",
        "('foi de repente estou machucado e me sentindo enjoado','desgosto'),\n",
        "('eu fiquei enojado','desgosto'),\n",
        "('daqui alguns meses vou embora deste pais que já estou nauseado','desgosto'),\n",
        "\n",
        "('que abominável esse montro!','medo'),\n",
        "('vamos alarmar a todos sobre a situação','medo'),\n",
        "('estou amedrontada','medo'),\n",
        "('estou com muito medo da noite','medo'),\n",
        "('ele esta me ameaçando a dias','medo'),\n",
        "('quanta angustia','medo'),\n",
        "('estou angustiada','medo'),\n",
        "('angustiadamente vou sair e casa','medo'),\n",
        "('isso me deixa apavorada','medo'),\n",
        "('você esta me apavorando','medo'),\n",
        "('estou desconfiada de você','medo'),\n",
        "('não confio em você','medo'),\n",
        "('ate o cachorro está apavorado','medo'),\n",
        "('estou assustado com as ações do meu colega','medo'),\n",
        "('agora se sente humilhado, apavorado','medo'),\n",
        "('assustou a população e provocou mortes','medo'),\n",
        "('estou com dificuldades para respirar e muito assustado','medo'),\n",
        "('os policiais se assustaram quando o carro capotou','medo'),\n",
        "('o trabalhador e assombrado pelo temor do desemprego','medo'),\n",
        "('este lugar e mal assombrado','medo'),\n",
        "('estou assombrado pela crise financeira','medo'),\n",
        "('mesmo aterrorizado lembro de você','medo'),\n",
        "('aterrorizado e suando frio','medo'),\n",
        "('um grupo de elefantes selvagens tem aterrorizado vilas','medo'),\n",
        "('me sinto intimidada pela sua presença','medo'),\n",
        "('tenho medo de ser advertida novamente','medo'),\n",
        "('estou correndo o risco de ser advertido','medo'),\n",
        "('estou correndo riscos de saúde','medo'),\n",
        "('os riscos são reais','medo'),\n",
        "('podemos perder muito dinheiro com essa investida','medo'),\n",
        "('socorro, fui intimado a depor','medo'),\n",
        "('fui notificado e estou com medo de perde a guarda da minha filha','medo'),\n",
        "('estou angustiada com meus filhos na rua','medo'),\n",
        "('e abominável o que fazem com os animais','medo'),\n",
        "('foi terrível o tigre quase o matou','medo'),\n",
        "('me advertiram sobre isso','medo'),\n",
        "\n",
        "('ate que enfim, não agüentava mais te esperar','raiva'),\n",
        "('eu quero meu dinheiro de volta agora!','raiva'),\n",
        "('eu odeio a escola!','raiva'),\n",
        "('vou fazer picadinho de você','raiva'),\n",
        "('detesto trabalhar no verão','raiva'),\n",
        "('quero minha comida, e quero agora!','raiva'),\n",
        "('melhor você recolher minhas compras agora!','raiva'),\n",
        "('quero descer agora sua maluca','raiva'),\n",
        "('vou reclamar com o gerente!','raiva'),\n",
        "('vai engolir o que disse!','raiva'),\n",
        "('ele me ridiculariza diante de todos','raiva'),\n",
        "('não quero mais saber de você','raiva'),\n",
        "('vejo você na cadeia safado!','raiva'),\n",
        "('agora vou ter que pagar mais isso ainda!','raiva'),\n",
        "('saia logo do banheiro!','raiva'),\n",
        "('suba já para o seu quarto!','raiva'),\n",
        "('eu falei para calar a boca seu idiota!','raiva'),\n",
        "('eu disse para você cair fora!','raiva'),\n",
        "('não agüento mais que fiquem me culpando sem motivo!','raiva'),\n",
        "('não suporto olhar na sua cara!','raiva'),\n",
        "('eu não sou um elefante','raiva'),\n",
        "('juro que se olhar pra mim eu o mato!','raiva'),\n",
        "('chega, não quero saber mais deste assunto','raiva'),\n",
        "('como pode ser tão burro?','raiva'),\n",
        "('não me aborreça seu moleque','raiva'),\n",
        "('não quero me aborrecer com estas bobagens','raiva'),\n",
        "('ele me agrediu!','raiva'),\n",
        "('eu amaldiçôo você e a sua família','raiva'),\n",
        "('não me amole','raiva'),\n",
        "('não venha me amolar','raiva'),\n",
        "('isso tudo e uma tormenta','raiva'),\n",
        "('eu vou matar você','raiva'),\n",
        "('para que simplificar se você pode sempre complicar','raiva'),\n",
        "('isso esta me enlouquecendo','raiva'),\n",
        "('estou furiosa com você','raiva'),\n",
        "('isso mesmo fique furioso','raiva'),\n",
        "\n",
        "('esses livros são magníficos','surpresa'),\n",
        "('esse vinho e magnífico','surpresa'),\n",
        "('seria magnífico ver o esperaculo','surpresa'),\n",
        "('o casamento foi estupendo','surpresa'),\n",
        "('e um jogador bárbaro estupendo','surpresa'),\n",
        "('esse dia esta excelente','surpresa'),\n",
        "('o cantor estava excelente','surpresa'),\n",
        "('o universo e assombroso','surpresa'),\n",
        "('o amor e sublime','surpresa'),\n",
        "('sua sublime atuação','surpresa'),\n",
        "('e formidável meu caro walter','surpresa'),\n",
        "('como e formidável a presença de todos','surpresa'),\n",
        "('e formidável ter a quem dizer adeus','surpresa'),\n",
        "('e um conselheiro formidável o seu','surpresa'),\n",
        "('o artigo foi formidável','surpresa'),\n",
        "('pica pau e um destaque no imaginário brasileiro','surpresa'),\n",
        "('ah! o absoluto do imaginário','surpresa'),\n",
        "('isso foi surreal','surpresa'),\n",
        "('uma historia completamente surreal','surpresa'),\n",
        "('essas pinturas beiram o surreal','surpresa'),\n",
        "('você nem acreditam de tão surreal','surpresa'),\n",
        "('incrível!','surpresa'),\n",
        "('fiquei pasma com tudo isso','surpresa'),\n",
        "('você me deixa pasmo','surpresa'),\n",
        "('estou admirado com a sua astucia','surpresa'),\n",
        "('que bela surpresa você me fez','surpresa'),\n",
        "('não acredito que fez isso!','surpresa'),\n",
        "('isso foi apavorante','surpresa'),\n",
        "('isso tão de repente','surpresa'),\n",
        "('estou chocada com isso','surpresa'),\n",
        "('estou surpresa e desconsertada','surpresa'),\n",
        "('esta realmente deslumbrante querida','surpresa'),\n",
        "('fiquei completamente sem plavras','surpresa'),\n",
        "('e espantoso o modo como ele nos olha','surpresa'),\n",
        "('incrivel você estar aqui','surpresa'),\n",
        "('que fantástica festa minha querida','surpresa'),\n",
        "\n",
        "('isso tudo e um erro','tristeza'),\n",
        "('eu sou errada eu sou errante','tristeza'),\n",
        "('tenho muito dó do cachorro','tristeza'),\n",
        "('e dolorida a perda de um filho','tristeza'),\n",
        "('essa tragedia vai nos abalar para sempre','tristeza'),\n",
        "('perdi meus filhos','tristeza'),\n",
        "('perdi meu curso','tristeza'),\n",
        "('sou só uma chorona','tristeza'),\n",
        "('você e um chorão','tristeza'),\n",
        "('se arrependimento matasse','tristeza'),\n",
        "('me sinto deslocado em sala de aula','tristeza'),\n",
        "('foi uma passagem fúnebre','tristeza'),\n",
        "('nossa condolências e tristeza a sua perda','tristeza'),\n",
        "('desanimo, raiva, solidão ou vazies, depressão','tristeza'),\n",
        "('vivo te desanimando','tristeza'),\n",
        "('estou desanimado','tristeza'),\n",
        "('imperador sanguinário, depravado e temeroso','tristeza'),\n",
        "('meu ser esta em agonia','tristeza'),\n",
        "('este atrito entre nos tem que acabar','tristeza'),\n",
        "('a escuridão desola meu ser','tristeza'),\n",
        "('sua falsa preocupação','tristeza'),\n",
        "('sua falsidade me entristece','tristeza'),\n",
        "('quem esta descontente com os outros esta descontente consigo próprio','tristeza'),\n",
        "('a torcida esta descontente com a demissão do tecnico','tristeza'),\n",
        "('estou bastante aborrecido com o jornal','tristeza'),\n",
        "('me sinto solitário e entediado','tristeza'),\n",
        "('a vida e solitária para aqueles que não são falsos','tristeza'),\n",
        "('como com compulsão depois da depressão','tristeza'),\n",
        "('estou me desencorajando a viver','tristeza'),\n",
        "('ele desencoraja minhas vontades','tristeza'),\n",
        "('isso vai deprimindo por dentro','tristeza'),\n",
        "('acho que isso e defeituoso','tristeza'),\n",
        "('os remedios me derrubam na cama','tristeza'),\n",
        "('a depressão vai me derrubar','tristeza'),\n",
        "('suas desculpas são falsas','tristeza'),\n",
        "('não magoe as pessoas','tristeza')]\n"
      ],
      "metadata": {
        "id": "f69YD5e6PGw7"
      },
      "execution_count": 304,
      "outputs": []
    },
    {
      "cell_type": "code",
      "source": [
        "# Remoção de stopwords\n",
        "stopwords = ['a', 'agora', 'algum', 'alguma', 'aquele', 'aqueles', 'de', 'deu', 'do', 'e', 'estou', 'esta', 'esta',\n",
        "             'ir', 'meu', 'muito', 'mesmo', 'no', 'nossa', 'o', 'outro', 'para', 'que', 'sem', 'talvez', 'tem', 'tendo',\n",
        "             'tenha', 'teve', 'tive', 'todo', 'um', 'uma', 'umas', 'uns', 'vou']\n",
        "stopwords"
      ],
      "metadata": {
        "colab": {
          "base_uri": "https://localhost:8080/"
        },
        "id": "CKZLo1C6SQnu",
        "outputId": "2c6f2d36-5ec8-40be-9841-e08f6a87fffa"
      },
      "execution_count": 305,
      "outputs": [
        {
          "output_type": "execute_result",
          "data": {
            "text/plain": [
              "['a',\n",
              " 'agora',\n",
              " 'algum',\n",
              " 'alguma',\n",
              " 'aquele',\n",
              " 'aqueles',\n",
              " 'de',\n",
              " 'deu',\n",
              " 'do',\n",
              " 'e',\n",
              " 'estou',\n",
              " 'esta',\n",
              " 'esta',\n",
              " 'ir',\n",
              " 'meu',\n",
              " 'muito',\n",
              " 'mesmo',\n",
              " 'no',\n",
              " 'nossa',\n",
              " 'o',\n",
              " 'outro',\n",
              " 'para',\n",
              " 'que',\n",
              " 'sem',\n",
              " 'talvez',\n",
              " 'tem',\n",
              " 'tendo',\n",
              " 'tenha',\n",
              " 'teve',\n",
              " 'tive',\n",
              " 'todo',\n",
              " 'um',\n",
              " 'uma',\n",
              " 'umas',\n",
              " 'uns',\n",
              " 'vou']"
            ]
          },
          "metadata": {},
          "execution_count": 305
        }
      ]
    },
    {
      "cell_type": "code",
      "source": [
        "def removestopwords(texto):\n",
        "  frases = []\n",
        "  for (palavras, emocao) in texto:\n",
        "    semstop = [p for p in palavras.split() if p not in stopwords]\n",
        "    frases.append((semstop, emocao))\n",
        "  return frases\n",
        "\n",
        "print(removestopwords(base))"
      ],
      "metadata": {
        "colab": {
          "base_uri": "https://localhost:8080/"
        },
        "id": "3_QYt2QyTbgG",
        "outputId": "cf402c98-7c7d-466d-aa64-1216c2ef3311"
      },
      "execution_count": 306,
      "outputs": [
        {
          "output_type": "stream",
          "name": "stdout",
          "text": [
            "[(['eu', 'sou', 'admirada', 'por', 'muitos'], 'alegria'), (['me', 'sinto', 'completamente', 'amado'], 'alegria'), (['amar', 'maravilhoso'], 'alegria'), (['me', 'sentindo', 'animado', 'novamente'], 'alegria'), (['eu', 'bem', 'hoje'], 'alegria'), (['belo', 'dia', 'dirigir', 'carro', 'novo'], 'alegria'), (['dia', 'está', 'bonito'], 'alegria'), (['contente', 'com', 'resultado', 'teste', 'fiz', 'dia', 'ontem'], 'alegria'), (['amor', 'lindo'], 'alegria'), (['amizade', 'amor', 'vai', 'durar', 'sempre'], 'alegria'), (['amedrontado'], 'medo'), (['ele', 'me', 'ameacando', 'dias'], 'medo'), (['isso', 'me', 'deixa', 'apavorada'], 'medo'), (['este', 'lugar', 'apavorante'], 'medo'), (['se', 'perdermos', 'jogo', 'seremos', 'eliminados', 'isso', 'me', 'deixa', 'com', 'pavor'], 'medo'), (['tome', 'cuidado', 'com', 'lobisomem'], 'medo'), (['se', 'eles', 'descobrirem', 'estamos', 'encrencados'], 'medo'), (['tremendo', 'medo'], 'medo'), (['eu', 'tenho', 'medo', 'dele'], 'medo'), (['com', 'medo', 'resultado', 'dos', 'meus', 'testes'], 'medo')]\n"
          ]
        }
      ]
    },
    {
      "cell_type": "code",
      "source": [
        "stopwordsnltk = nltk.corpus.stopwords.words('portuguese')\n",
        "stopwordsnltk.append('vou')\n",
        "stopwordsnltk.append('tão')\n",
        "print(stopwordsnltk)"
      ],
      "metadata": {
        "colab": {
          "base_uri": "https://localhost:8080/"
        },
        "id": "vZkTzWMGVBuG",
        "outputId": "e322a4f3-46dd-474d-86fd-78d4491d6a52"
      },
      "execution_count": 307,
      "outputs": [
        {
          "output_type": "stream",
          "name": "stdout",
          "text": [
            "['a', 'à', 'ao', 'aos', 'aquela', 'aquelas', 'aquele', 'aqueles', 'aquilo', 'as', 'às', 'até', 'com', 'como', 'da', 'das', 'de', 'dela', 'delas', 'dele', 'deles', 'depois', 'do', 'dos', 'e', 'é', 'ela', 'elas', 'ele', 'eles', 'em', 'entre', 'era', 'eram', 'éramos', 'essa', 'essas', 'esse', 'esses', 'esta', 'está', 'estamos', 'estão', 'estar', 'estas', 'estava', 'estavam', 'estávamos', 'este', 'esteja', 'estejam', 'estejamos', 'estes', 'esteve', 'estive', 'estivemos', 'estiver', 'estivera', 'estiveram', 'estivéramos', 'estiverem', 'estivermos', 'estivesse', 'estivessem', 'estivéssemos', 'estou', 'eu', 'foi', 'fomos', 'for', 'fora', 'foram', 'fôramos', 'forem', 'formos', 'fosse', 'fossem', 'fôssemos', 'fui', 'há', 'haja', 'hajam', 'hajamos', 'hão', 'havemos', 'haver', 'hei', 'houve', 'houvemos', 'houver', 'houvera', 'houverá', 'houveram', 'houvéramos', 'houverão', 'houverei', 'houverem', 'houveremos', 'houveria', 'houveriam', 'houveríamos', 'houvermos', 'houvesse', 'houvessem', 'houvéssemos', 'isso', 'isto', 'já', 'lhe', 'lhes', 'mais', 'mas', 'me', 'mesmo', 'meu', 'meus', 'minha', 'minhas', 'muito', 'na', 'não', 'nas', 'nem', 'no', 'nos', 'nós', 'nossa', 'nossas', 'nosso', 'nossos', 'num', 'numa', 'o', 'os', 'ou', 'para', 'pela', 'pelas', 'pelo', 'pelos', 'por', 'qual', 'quando', 'que', 'quem', 'são', 'se', 'seja', 'sejam', 'sejamos', 'sem', 'ser', 'será', 'serão', 'serei', 'seremos', 'seria', 'seriam', 'seríamos', 'seu', 'seus', 'só', 'somos', 'sou', 'sua', 'suas', 'também', 'te', 'tem', 'tém', 'temos', 'tenha', 'tenham', 'tenhamos', 'tenho', 'terá', 'terão', 'terei', 'teremos', 'teria', 'teriam', 'teríamos', 'teu', 'teus', 'teve', 'tinha', 'tinham', 'tínhamos', 'tive', 'tivemos', 'tiver', 'tivera', 'tiveram', 'tivéramos', 'tiverem', 'tivermos', 'tivesse', 'tivessem', 'tivéssemos', 'tu', 'tua', 'tuas', 'um', 'uma', 'você', 'vocês', 'vos', 'vou', 'tão']\n"
          ]
        }
      ]
    },
    {
      "cell_type": "code",
      "source": [
        "def removestopwords(texto):\n",
        "  frases = []\n",
        "  for (palavras, emocao) in texto:\n",
        "    semstop = [p for p in palavras.split() if p not in stopwordsnltk]\n",
        "    frases.append((semstop, emocao))\n",
        "  return frases\n",
        "\n",
        "print(removestopwords(base))"
      ],
      "metadata": {
        "colab": {
          "base_uri": "https://localhost:8080/"
        },
        "id": "5tXZk-N_Y8x9",
        "outputId": "e81985ea-706d-4298-fed2-afec4766fdf0"
      },
      "execution_count": 308,
      "outputs": [
        {
          "output_type": "stream",
          "name": "stdout",
          "text": [
            "[(['admirada', 'muitos'], 'alegria'), (['sinto', 'completamente', 'amado'], 'alegria'), (['amar', 'maravilhoso'], 'alegria'), (['sentindo', 'animado', 'novamente'], 'alegria'), (['bem', 'hoje'], 'alegria'), (['belo', 'dia', 'dirigir', 'carro', 'novo'], 'alegria'), (['dia', 'bonito'], 'alegria'), (['contente', 'resultado', 'teste', 'fiz', 'dia', 'ontem'], 'alegria'), (['amor', 'lindo'], 'alegria'), (['amizade', 'amor', 'vai', 'durar', 'sempre'], 'alegria'), (['amedrontado'], 'medo'), (['ameacando', 'dias'], 'medo'), (['deixa', 'apavorada'], 'medo'), (['lugar', 'apavorante'], 'medo'), (['perdermos', 'outro', 'jogo', 'eliminados', 'deixa', 'pavor'], 'medo'), (['tome', 'cuidado', 'lobisomem'], 'medo'), (['descobrirem', 'encrencados'], 'medo'), (['tremendo', 'medo'], 'medo'), (['medo'], 'medo'), (['medo', 'resultado', 'testes'], 'medo')]\n"
          ]
        }
      ]
    },
    {
      "cell_type": "code",
      "source": [
        "# Extração do radical das palavras (stemming)\n",
        "def aplicastemmer(texto):\n",
        "  stemmer = nltk.stem.RSLPStemmer()\n",
        "  frasesstemming = []\n",
        "  for (palavras, emocao) in texto:\n",
        "    comstemming = [str(stemmer.stem(p)) for p in palavras.split() if p not in stopwordsnltk]\n",
        "    frasesstemming.append((comstemming, emocao))\n",
        "  return frasesstemming\n",
        "\n",
        "frasescomstemming = aplicastemmer(basetreinamento)\n",
        "frasescomstemmingteste = aplicastemmer(baseteste)\n",
        "#print(frasescomstemming)"
      ],
      "metadata": {
        "id": "JygIs9J2ZN9E"
      },
      "execution_count": 309,
      "outputs": []
    },
    {
      "cell_type": "code",
      "source": [
        "def buscapalavras(frases):\n",
        "  todaspalavras = []\n",
        "  for (palavras, emocao) in frases:\n",
        "    todaspalavras.extend(palavras)\n",
        "  return todaspalavras\n",
        "\n",
        "palavras = buscapalavras(frasescomstemming)\n",
        "palavrasteste = buscapalavras(frasescomstemmingteste)\n",
        "#print(palavras)\n"
      ],
      "metadata": {
        "id": "Bb0SrXbRbdzd"
      },
      "execution_count": 310,
      "outputs": []
    },
    {
      "cell_type": "code",
      "source": [
        "# Extração de palavras únicas\n",
        "def buscafrequencia(palavras):\n",
        "  palavras = nltk.FreqDist(palavras)\n",
        "  return palavras\n",
        "\n",
        "frequencia = buscafrequencia(palavras)\n",
        "frequenciateste = buscafrequencia(palavrasteste)\n",
        "#print(frequencia.most_common(50))"
      ],
      "metadata": {
        "id": "tqSS5xZHdSQ9"
      },
      "execution_count": 311,
      "outputs": []
    },
    {
      "cell_type": "code",
      "source": [
        "def buscapalavrasunicas(frquencia):\n",
        "  freq = frequencia.keys()\n",
        "  return freq\n",
        "\n",
        "palavrasunicas = buscapalavrasunicas(frequencia)\n",
        "palavrasunicasteste = buscapalavrasunicas(frequenciateste)\n",
        "print(palavrasunicas)"
      ],
      "metadata": {
        "colab": {
          "base_uri": "https://localhost:8080/"
        },
        "id": "muWa_aJ4gea2",
        "outputId": "798e737f-3de8-4437-c36e-9a6a2d3844c0"
      },
      "execution_count": 312,
      "outputs": [
        {
          "output_type": "stream",
          "name": "stdout",
          "text": [
            "dict_keys(['trabalh', 'agrad', 'gost', 'fic', 'aconcheg', 'fiz', 'ades', 'curs', 'hoj', 'admir', 'muit', 'ador', 'cabel', 'maci', 'cor', 'olh', 'som', 'am', 'outr', 'sint', 'grand', 'afe', 'quer', 'filh', 'complet', 'amo', 'alivi', 'dor', 'ameniz', 'final', 'ach', 'apaixon', 'maravilh', 'sent', 'anim', 'bem', 'lu', 'bel', 'dia', 'bonit', 'afortun', 'mund', 'receb', 'car', 'coleg', 'reconfort', 'bom', 'amig', 'cont', 'result', 'test', 'pint', 'brilh', 'águ', 'abundanc', 'roup', 'delic', 'comedi', 'bondad', 'vir', 'aqu', 'lind', 'amizad', 'vai', 'dur', 'sempr', 'eufór', 'notic', 'real', 'fiel', 'mim', 'dar', 'fest', 'comemor', 'aniversári', 'graç', 'deu', 'enxerg', 'cert', 'melhor', 'escolh', 'tod', 'incr', 'engraç', 'tent', 'explic', 'emocion', 'nest', 'lug', 'cativ', 'louc', 'nunc', 'duvid', 'rode', 'abraç', 'vej', 'estrel', 'caminh', 'sol', 'pert', 'sorr', 'orelh', 'val', 'pen', 'coloc', 'prim', 'danç', 'noit', 'adentr', 'toq', 'coraçã', 'companh', 'traz', 'volt', 'vid', 'sonh', 'doc', 'frut', 'suc', 'favorit', 'agradec', 'ajud', 'enorm', 'praz', 'ter', 'equip', 'flutu', 'ar', 'bris', 'ótim', 'compat', 'órg', 'paci', 'aceit', 'faculdad', 'aprov', 'exam', 'benefici', 'empr', 'apoi', 'confort', 'quent', 'fri', 'elogi', 'demal', 'cham', 'desej', 'presenç', 'apresent', 'grat', 'dedic', 'naquil', 'faç', 'vam', 'agit', 'signif', 'agir', 'preconceit', 'julg', 'coleção,', 'rainh', 'satisf', 'anunci', 'venc', 'jog', 'atr', 'facil', 'rapaz', 'extrem', 'atra', 'sinto-m', 'viv', 'paz', 'tend', 'lucr', 'tud', 'ord', 'agor', 'pod', 'arrum', 'empreg', 'junt', 'terminada,', 'alívi', 'cânc', 'benign', 'abund', 'carid', 'natal', 'charm', 'irá', 'cuidad', 'comov', 'tamanh', 'caridad', 'chá', 'alegr', 'aplaud', 'palm', 'aniversari', 'hor', 'apreci', 'vinh', 'escol', 'ansei', 'próx', 'amist', 'ânim', 'apazigu', 'concretiz', 'abomin', 'man', 'age', 'adoent', 'pai', 'doent', 'situ', 'amarg', 'diss', 'adeu', 'antipat', 'pesso', 'antipática!', 'horr', 'asquer', 'avers', 'agent', 'chate', 'ment', 'desagrad', 'desagr', 'enjô', 'terr', 'enf', 'enferm', 'grav', 'gross', 'fez', 'manobr', 'ileg', 'indecente,', 'vergonha?', 'malv', 'crianç', 'coment', 'mald', 'escrúpul', 'manipul', 'repuls', 'indispost', 'indispos', 'atac', 'vomit', 'lá', 'incomod', 'bob', 'noj', 'suj', 'náuse', 'lembr', 'nause', 'cheir', 'dest', 'com', 'obstru', 'pass', 'terri', 'fei', 'atitud', 'deplor', 'mau', 'desgost', 'cort', 'assunt', 'tant', 'chateação?', 'perfum', 'enjo', 'perig', 'nad', 'fet', 'esgot', 'fed', 'cachorr', 'malcheir', 'ultraj', 'part', 'assim', 'mal', 'sociedad', 'criat', 'depress', 'vê', 'asc', 'dess', 'cois', 'hediondo!', 'golf', 'caf', 'garot', 'detestável!', 'obscen', 'frent', 'rud', 'visit', 'travess', 'educ', 'divorci', 'patetico,', 'dizer?', 'motiv', 'torpe,', 'mei', 'cruel', 'impossibil', 'defês', 'vítim', 'invej', 'vil', 'vergonh', 'ning', 'atrev', 'confessá-l', 'miser', 'recei', 'sentiment', 'modern', 'gat', 'saudad', 'don', 'mij', 'sapat', 'ato', 'detest', 'cov', 'revel', 'apen', 'destru', 'pov', 'sei', 'patife,', 'hom', 'honest', 'suport', 'insuport', 'injur', 'temp', 'injustiç', 'odi', 'desum', 'public', 'conteúd', 'odiento,', 'pornográf', 'ameaç', 'rancor', 'reprim', 'animal', 'degradante,', 'estúpido,', 'covarde,', 'lamentável,', 'egoísta,', 'virulent', 'debat', 'ent', 'polít', 'imploro,', 'matem!', 'perigoso?', 'segur', 'corr', 'pra', 'peg', 'socorro!', 'roub', 'doces!', 'persegu', 'entr', 'lá,', 'continu', 'assust', 'selv', 'avanc', 'cautel', 'silenci', 'mais,', 'cuidado!', 'favor,', 'deixe-m', 'viver!', 'mes', 'tir', 'not', 'baix', 'parec', 'vigi', 'tem', 'sentenç', 'juiz', 'poss', 'nega', 'miss', 'arrisc', 'salvem-s', 'puder!', 'plan', 'descobert', 'culpa,', 'jur', 'tom', 'cuid', 'lobisom', 'achar,', 'descobr', 'verdad', 'deus,', 'desapareceu!', 'daqui!', 'mantenh', 'segredo,', 'est', 'ferr', 'soltem,', 'inoc', 'ouv', 'atrás', 'ped', 'curv', 'estr', 'não,', 'trem', 'medo!', 'socorro,', 'cair!', 'ate', 'florest', 'negra,', 'ouç', 'direç', 'voltar,', 'fuja,', 'acab', 'mort', 'livr', 'armado!', 'ei', 'cuidado,', 'bat', 'poste!', 'afund', 'serio,', 'arma!', 'tub', 'atacando!', 'arrepi', 'so', 'escur', 'calma,', 'dinh', 'send', 'engan', 'ligeiro,', 'fug', 'crocodil', 'vind', 'cá', 'quiet', 'vão', 'fuja!', 'tigr', 'famint', 'saída,', 'precis', 'milagr', 'mim!', 'nadar,', 'afogar!', 'apanh', 'pal', 'ver', 'boletim', 'consig', 'sair', 'tarde,', 'assalt', 'deix', 'favor!', 'espere,', 'larg', 'seguranç', 'entreg', 'dinheiro,', 'favor', 'mate!', 'lev', 'dirij', 'rápid', 'descobriram,', 'irã', 'prender!', 'esper', 'nenhum', 'afogar,', 'salv', 'pens', 'acontec', 'ness', 'cidad', 'desgr', 'algu', 'ligando,', 'remedio,', 'mat', 'confi', 'nele,', 'descoberto,', 'ir', 'estremec', 'cas', 'mov', 'monstruos', 'agüent', 'suspens', 'afug', 'cão', 'choc', 'amedront', 'assassinat', 'brut', 'afugent', 'ímpet', 'med', 'infern', 'us', 'forç', 'obje', 'apav', 'fer', 'profund', 'despej', 'cól', 'atorment', 'contrari', 'constru', 'termin', 'trabalho,', 'frustr', 'ruim', 'destró', 'separ', 'vest', 'pud', 'compr', 'celul', 'show', 'horror', 'ingress', 'estrag', 'possu', 'algum', 'pobr', 'prejudic', 'nov', 'ridícul', 'apert', 'music', 'ofens', 'taref', 'difícil', 'reprov', 'gradu', 'odei', 'despraz', 'conhecê-l', 'desperdiç', 'ranc', 'vet', 'orç', 'client', 'consent', 'descas', 'desprez', 'descont', 'famíl', 'furi', 'obrig', 'lado?', 'sobr', 'enfurec', 'diab', 'corp', 'diaból', 'gent', 'chat', 'perdo', 'tra', 'corrupt', 'crucific', 'enlouquec', 'barulh', 'assedi', 'drag', 'ridículo!', 'vez,', 'invent', 'tolos!', 'escapar!', 'jamal', 'isso?', 'mult', 'limites!', 'sente-s', 'cal', 'boc', 'ingratosvermesvoc', 'pagam!', 'sai', 'dai,', 'arranc', 'dai!', 'caus', 'problem', 'sufici', 'got', 'd’agu', 'entend', 'safados!', 'merec', 'piedad', 'sum', 'daqui,', 'couro!', 'revolt', 'idiota!', 'emprest', 'dinheiro!', 'cafajeste!', 'emb', 'par', 'fresc', 'vá', 'liç', 'aind', 'brav', 'surr', 'chantag', 'fez!', 'derramou!', 'apanhar!', 'paz!', 'morr', 'maldito,', 'morra!', 'irrit', 'fech', 'bic', 'magic', 'surpreend', 'imens', 'glob', 'tremend', 'interess', 'bilhet', 'sorteado,', 'inacreditável!', 'mão', 'armada!', 'incrível,', 'cab', 'qualqu', 'lugar!', 'aqui?', 'dá', 'acredit', 'convid', 'chegando!', 'pux', 'vida!', 'mich', 'cart', 'sumiu,', 'oh!', 'disc', 'voad', 'amigos,', 'surpresa!', 'vei', 'descar', 'falt', 'tat', 'predi', 'ond', 'mor', 'desabou!', 'inacredit', 'bol', 'seri', 'mesmo?', 'encontro?', 'casa?', 'ue,', 'foi?!', 'nossa,', 'mergulh', 'esp', 'grávida!', 'sumiu!', 'doi', 'terminaram?!?', 'caramba,', 'vi', 'cheg', 'cozinh', 'mal?', 'fórmul', 'comig', 'escond', 'alg', 'nós!', 'assim,', 'pronta!', 'opa!', 'apag', 'luz?', 'caramba!', 'aond', 'rápido?', 'segu', 'errado!', 'quatr', 'litr', 'gasolina!', 'vê-l', 'jeito!', 'mãe', 'grávida,', 'nisso?', 'cresc', 'imagin', 'conseg', 'bela?', 'deslumbr', 'super', 'expect', 'comport', 'notici', 'espant', 'verd', 'nel', 'perplex', 'denunc', 'fiq', 'palavr', 'abism', 'pros', 'grup', 'enquant', 'lav', 'carr', 'boquiabert', 'imag', 'quadr', 'encontrá-l', 'emudec', 'mulh', 'efeit', 'natur', 'jói', 'român', 'esplênd', 'esplend', 'ceu', 'encontr', 'moment', 'fant', 'edifíci', 'abandon', 'abat', 'trist', 'aborrec', 'afl', 'aflig', 'mod', 'fal', 'agon', 'intim', 'faz', 'ansi', 'tens', 'chor', 'lagr', 'perd', 'arrepend', 'carm', 'volta,', 'poi', 'sofr', 'cumpr', 'promess', 'amargur', 'coit', 'tard', 'machuc', 'mud', 'dói', 'derrot', 'deprim', 'brasil', 'culp', 'ansiedad', 'jeit', 'ult', 'propost', 'centav', 'ano', 'afinal', 'sab', 'desfaz', 'falh', 'humilh', 'histór', 'sirv', 'droga,', 'direit', 'dobr', 'demit', 'seman', 'adult', 'ruim,', 'pi', 'repent', 'apetit', 'oh', 'infeliz', 'rest', 'esperanç', 'salári', 'vestibul', 'import', 'azar', 'vinganç', 'desanim', 'desan', 'discrimin', 'desonr', 'preocup', 'dev', 'açã', 'desalent', 'viu', 'reconhec', 'vici'])\n"
          ]
        }
      ]
    },
    {
      "cell_type": "code",
      "source": [
        "# Extração das palavras de cada frase\n",
        "def extratorpalavras(documento):\n",
        "  doc = set(documento)\n",
        "  caracteristicas = {}\n",
        "  for palavras in palavrasunicas:\n",
        "    caracteristicas['%s' % palavras] = (palavras in doc)\n",
        "  return caracteristicas\n",
        "\n",
        "caracteristicasfrase = extratorpalavras(['am', 'nov', 'dia'])\n",
        "print(caracteristicasfrase)"
      ],
      "metadata": {
        "colab": {
          "base_uri": "https://localhost:8080/"
        },
        "id": "f-EuKGVyiz-N",
        "outputId": "724db190-728b-4d7f-97d1-503d3a3aef37"
      },
      "execution_count": 313,
      "outputs": [
        {
          "output_type": "stream",
          "name": "stdout",
          "text": [
            "{'trabalh': False, 'agrad': False, 'gost': False, 'fic': False, 'aconcheg': False, 'fiz': False, 'ades': False, 'curs': False, 'hoj': False, 'admir': False, 'muit': False, 'ador': False, 'cabel': False, 'maci': False, 'cor': False, 'olh': False, 'som': False, 'am': True, 'outr': False, 'sint': False, 'grand': False, 'afe': False, 'quer': False, 'filh': False, 'complet': False, 'amo': False, 'alivi': False, 'dor': False, 'ameniz': False, 'final': False, 'ach': False, 'apaixon': False, 'maravilh': False, 'sent': False, 'anim': False, 'bem': False, 'lu': False, 'bel': False, 'dia': True, 'bonit': False, 'afortun': False, 'mund': False, 'receb': False, 'car': False, 'coleg': False, 'reconfort': False, 'bom': False, 'amig': False, 'cont': False, 'result': False, 'test': False, 'pint': False, 'brilh': False, 'águ': False, 'abundanc': False, 'roup': False, 'delic': False, 'comedi': False, 'bondad': False, 'vir': False, 'aqu': False, 'lind': False, 'amizad': False, 'vai': False, 'dur': False, 'sempr': False, 'eufór': False, 'notic': False, 'real': False, 'fiel': False, 'mim': False, 'dar': False, 'fest': False, 'comemor': False, 'aniversári': False, 'graç': False, 'deu': False, 'enxerg': False, 'cert': False, 'melhor': False, 'escolh': False, 'tod': False, 'incr': False, 'engraç': False, 'tent': False, 'explic': False, 'emocion': False, 'nest': False, 'lug': False, 'cativ': False, 'louc': False, 'nunc': False, 'duvid': False, 'rode': False, 'abraç': False, 'vej': False, 'estrel': False, 'caminh': False, 'sol': False, 'pert': False, 'sorr': False, 'orelh': False, 'val': False, 'pen': False, 'coloc': False, 'prim': False, 'danç': False, 'noit': False, 'adentr': False, 'toq': False, 'coraçã': False, 'companh': False, 'traz': False, 'volt': False, 'vid': False, 'sonh': False, 'doc': False, 'frut': False, 'suc': False, 'favorit': False, 'agradec': False, 'ajud': False, 'enorm': False, 'praz': False, 'ter': False, 'equip': False, 'flutu': False, 'ar': False, 'bris': False, 'ótim': False, 'compat': False, 'órg': False, 'paci': False, 'aceit': False, 'faculdad': False, 'aprov': False, 'exam': False, 'benefici': False, 'empr': False, 'apoi': False, 'confort': False, 'quent': False, 'fri': False, 'elogi': False, 'demal': False, 'cham': False, 'desej': False, 'presenç': False, 'apresent': False, 'grat': False, 'dedic': False, 'naquil': False, 'faç': False, 'vam': False, 'agit': False, 'signif': False, 'agir': False, 'preconceit': False, 'julg': False, 'coleção,': False, 'rainh': False, 'satisf': False, 'anunci': False, 'venc': False, 'jog': False, 'atr': False, 'facil': False, 'rapaz': False, 'extrem': False, 'atra': False, 'sinto-m': False, 'viv': False, 'paz': False, 'tend': False, 'lucr': False, 'tud': False, 'ord': False, 'agor': False, 'pod': False, 'arrum': False, 'empreg': False, 'junt': False, 'terminada,': False, 'alívi': False, 'cânc': False, 'benign': False, 'abund': False, 'carid': False, 'natal': False, 'charm': False, 'irá': False, 'cuidad': False, 'comov': False, 'tamanh': False, 'caridad': False, 'chá': False, 'alegr': False, 'aplaud': False, 'palm': False, 'aniversari': False, 'hor': False, 'apreci': False, 'vinh': False, 'escol': False, 'ansei': False, 'próx': False, 'amist': False, 'ânim': False, 'apazigu': False, 'concretiz': False, 'abomin': False, 'man': False, 'age': False, 'adoent': False, 'pai': False, 'doent': False, 'situ': False, 'amarg': False, 'diss': False, 'adeu': False, 'antipat': False, 'pesso': False, 'antipática!': False, 'horr': False, 'asquer': False, 'avers': False, 'agent': False, 'chate': False, 'ment': False, 'desagrad': False, 'desagr': False, 'enjô': False, 'terr': False, 'enf': False, 'enferm': False, 'grav': False, 'gross': False, 'fez': False, 'manobr': False, 'ileg': False, 'indecente,': False, 'vergonha?': False, 'malv': False, 'crianç': False, 'coment': False, 'mald': False, 'escrúpul': False, 'manipul': False, 'repuls': False, 'indispost': False, 'indispos': False, 'atac': False, 'vomit': False, 'lá': False, 'incomod': False, 'bob': False, 'noj': False, 'suj': False, 'náuse': False, 'lembr': False, 'nause': False, 'cheir': False, 'dest': False, 'com': False, 'obstru': False, 'pass': False, 'terri': False, 'fei': False, 'atitud': False, 'deplor': False, 'mau': False, 'desgost': False, 'cort': False, 'assunt': False, 'tant': False, 'chateação?': False, 'perfum': False, 'enjo': False, 'perig': False, 'nad': False, 'fet': False, 'esgot': False, 'fed': False, 'cachorr': False, 'malcheir': False, 'ultraj': False, 'part': False, 'assim': False, 'mal': False, 'sociedad': False, 'criat': False, 'depress': False, 'vê': False, 'asc': False, 'dess': False, 'cois': False, 'hediondo!': False, 'golf': False, 'caf': False, 'garot': False, 'detestável!': False, 'obscen': False, 'frent': False, 'rud': False, 'visit': False, 'travess': False, 'educ': False, 'divorci': False, 'patetico,': False, 'dizer?': False, 'motiv': False, 'torpe,': False, 'mei': False, 'cruel': False, 'impossibil': False, 'defês': False, 'vítim': False, 'invej': False, 'vil': False, 'vergonh': False, 'ning': False, 'atrev': False, 'confessá-l': False, 'miser': False, 'recei': False, 'sentiment': False, 'modern': False, 'gat': False, 'saudad': False, 'don': False, 'mij': False, 'sapat': False, 'ato': False, 'detest': False, 'cov': False, 'revel': False, 'apen': False, 'destru': False, 'pov': False, 'sei': False, 'patife,': False, 'hom': False, 'honest': False, 'suport': False, 'insuport': False, 'injur': False, 'temp': False, 'injustiç': False, 'odi': False, 'desum': False, 'public': False, 'conteúd': False, 'odiento,': False, 'pornográf': False, 'ameaç': False, 'rancor': False, 'reprim': False, 'animal': False, 'degradante,': False, 'estúpido,': False, 'covarde,': False, 'lamentável,': False, 'egoísta,': False, 'virulent': False, 'debat': False, 'ent': False, 'polít': False, 'imploro,': False, 'matem!': False, 'perigoso?': False, 'segur': False, 'corr': False, 'pra': False, 'peg': False, 'socorro!': False, 'roub': False, 'doces!': False, 'persegu': False, 'entr': False, 'lá,': False, 'continu': False, 'assust': False, 'selv': False, 'avanc': False, 'cautel': False, 'silenci': False, 'mais,': False, 'cuidado!': False, 'favor,': False, 'deixe-m': False, 'viver!': False, 'mes': False, 'tir': False, 'not': False, 'baix': False, 'parec': False, 'vigi': False, 'tem': False, 'sentenç': False, 'juiz': False, 'poss': False, 'nega': False, 'miss': False, 'arrisc': False, 'salvem-s': False, 'puder!': False, 'plan': False, 'descobert': False, 'culpa,': False, 'jur': False, 'tom': False, 'cuid': False, 'lobisom': False, 'achar,': False, 'descobr': False, 'verdad': False, 'deus,': False, 'desapareceu!': False, 'daqui!': False, 'mantenh': False, 'segredo,': False, 'est': False, 'ferr': False, 'soltem,': False, 'inoc': False, 'ouv': False, 'atrás': False, 'ped': False, 'curv': False, 'estr': False, 'não,': False, 'trem': False, 'medo!': False, 'socorro,': False, 'cair!': False, 'ate': False, 'florest': False, 'negra,': False, 'ouç': False, 'direç': False, 'voltar,': False, 'fuja,': False, 'acab': False, 'mort': False, 'livr': False, 'armado!': False, 'ei': False, 'cuidado,': False, 'bat': False, 'poste!': False, 'afund': False, 'serio,': False, 'arma!': False, 'tub': False, 'atacando!': False, 'arrepi': False, 'so': False, 'escur': False, 'calma,': False, 'dinh': False, 'send': False, 'engan': False, 'ligeiro,': False, 'fug': False, 'crocodil': False, 'vind': False, 'cá': False, 'quiet': False, 'vão': False, 'fuja!': False, 'tigr': False, 'famint': False, 'saída,': False, 'precis': False, 'milagr': False, 'mim!': False, 'nadar,': False, 'afogar!': False, 'apanh': False, 'pal': False, 'ver': False, 'boletim': False, 'consig': False, 'sair': False, 'tarde,': False, 'assalt': False, 'deix': False, 'favor!': False, 'espere,': False, 'larg': False, 'seguranç': False, 'entreg': False, 'dinheiro,': False, 'favor': False, 'mate!': False, 'lev': False, 'dirij': False, 'rápid': False, 'descobriram,': False, 'irã': False, 'prender!': False, 'esper': False, 'nenhum': False, 'afogar,': False, 'salv': False, 'pens': False, 'acontec': False, 'ness': False, 'cidad': False, 'desgr': False, 'algu': False, 'ligando,': False, 'remedio,': False, 'mat': False, 'confi': False, 'nele,': False, 'descoberto,': False, 'ir': False, 'estremec': False, 'cas': False, 'mov': False, 'monstruos': False, 'agüent': False, 'suspens': False, 'afug': False, 'cão': False, 'choc': False, 'amedront': False, 'assassinat': False, 'brut': False, 'afugent': False, 'ímpet': False, 'med': False, 'infern': False, 'us': False, 'forç': False, 'obje': False, 'apav': False, 'fer': False, 'profund': False, 'despej': False, 'cól': False, 'atorment': False, 'contrari': False, 'constru': False, 'termin': False, 'trabalho,': False, 'frustr': False, 'ruim': False, 'destró': False, 'separ': False, 'vest': False, 'pud': False, 'compr': False, 'celul': False, 'show': False, 'horror': False, 'ingress': False, 'estrag': False, 'possu': False, 'algum': False, 'pobr': False, 'prejudic': False, 'nov': True, 'ridícul': False, 'apert': False, 'music': False, 'ofens': False, 'taref': False, 'difícil': False, 'reprov': False, 'gradu': False, 'odei': False, 'despraz': False, 'conhecê-l': False, 'desperdiç': False, 'ranc': False, 'vet': False, 'orç': False, 'client': False, 'consent': False, 'descas': False, 'desprez': False, 'descont': False, 'famíl': False, 'furi': False, 'obrig': False, 'lado?': False, 'sobr': False, 'enfurec': False, 'diab': False, 'corp': False, 'diaból': False, 'gent': False, 'chat': False, 'perdo': False, 'tra': False, 'corrupt': False, 'crucific': False, 'enlouquec': False, 'barulh': False, 'assedi': False, 'drag': False, 'ridículo!': False, 'vez,': False, 'invent': False, 'tolos!': False, 'escapar!': False, 'jamal': False, 'isso?': False, 'mult': False, 'limites!': False, 'sente-s': False, 'cal': False, 'boc': False, 'ingratosvermesvoc': False, 'pagam!': False, 'sai': False, 'dai,': False, 'arranc': False, 'dai!': False, 'caus': False, 'problem': False, 'sufici': False, 'got': False, 'd’agu': False, 'entend': False, 'safados!': False, 'merec': False, 'piedad': False, 'sum': False, 'daqui,': False, 'couro!': False, 'revolt': False, 'idiota!': False, 'emprest': False, 'dinheiro!': False, 'cafajeste!': False, 'emb': False, 'par': False, 'fresc': False, 'vá': False, 'liç': False, 'aind': False, 'brav': False, 'surr': False, 'chantag': False, 'fez!': False, 'derramou!': False, 'apanhar!': False, 'paz!': False, 'morr': False, 'maldito,': False, 'morra!': False, 'irrit': False, 'fech': False, 'bic': False, 'magic': False, 'surpreend': False, 'imens': False, 'glob': False, 'tremend': False, 'interess': False, 'bilhet': False, 'sorteado,': False, 'inacreditável!': False, 'mão': False, 'armada!': False, 'incrível,': False, 'cab': False, 'qualqu': False, 'lugar!': False, 'aqui?': False, 'dá': False, 'acredit': False, 'convid': False, 'chegando!': False, 'pux': False, 'vida!': False, 'mich': False, 'cart': False, 'sumiu,': False, 'oh!': False, 'disc': False, 'voad': False, 'amigos,': False, 'surpresa!': False, 'vei': False, 'descar': False, 'falt': False, 'tat': False, 'predi': False, 'ond': False, 'mor': False, 'desabou!': False, 'inacredit': False, 'bol': False, 'seri': False, 'mesmo?': False, 'encontro?': False, 'casa?': False, 'ue,': False, 'foi?!': False, 'nossa,': False, 'mergulh': False, 'esp': False, 'grávida!': False, 'sumiu!': False, 'doi': False, 'terminaram?!?': False, 'caramba,': False, 'vi': False, 'cheg': False, 'cozinh': False, 'mal?': False, 'fórmul': False, 'comig': False, 'escond': False, 'alg': False, 'nós!': False, 'assim,': False, 'pronta!': False, 'opa!': False, 'apag': False, 'luz?': False, 'caramba!': False, 'aond': False, 'rápido?': False, 'segu': False, 'errado!': False, 'quatr': False, 'litr': False, 'gasolina!': False, 'vê-l': False, 'jeito!': False, 'mãe': False, 'grávida,': False, 'nisso?': False, 'cresc': False, 'imagin': False, 'conseg': False, 'bela?': False, 'deslumbr': False, 'super': False, 'expect': False, 'comport': False, 'notici': False, 'espant': False, 'verd': False, 'nel': False, 'perplex': False, 'denunc': False, 'fiq': False, 'palavr': False, 'abism': False, 'pros': False, 'grup': False, 'enquant': False, 'lav': False, 'carr': False, 'boquiabert': False, 'imag': False, 'quadr': False, 'encontrá-l': False, 'emudec': False, 'mulh': False, 'efeit': False, 'natur': False, 'jói': False, 'român': False, 'esplênd': False, 'esplend': False, 'ceu': False, 'encontr': False, 'moment': False, 'fant': False, 'edifíci': False, 'abandon': False, 'abat': False, 'trist': False, 'aborrec': False, 'afl': False, 'aflig': False, 'mod': False, 'fal': False, 'agon': False, 'intim': False, 'faz': False, 'ansi': False, 'tens': False, 'chor': False, 'lagr': False, 'perd': False, 'arrepend': False, 'carm': False, 'volta,': False, 'poi': False, 'sofr': False, 'cumpr': False, 'promess': False, 'amargur': False, 'coit': False, 'tard': False, 'machuc': False, 'mud': False, 'dói': False, 'derrot': False, 'deprim': False, 'brasil': False, 'culp': False, 'ansiedad': False, 'jeit': False, 'ult': False, 'propost': False, 'centav': False, 'ano': False, 'afinal': False, 'sab': False, 'desfaz': False, 'falh': False, 'humilh': False, 'histór': False, 'sirv': False, 'droga,': False, 'direit': False, 'dobr': False, 'demit': False, 'seman': False, 'adult': False, 'ruim,': False, 'pi': False, 'repent': False, 'apetit': False, 'oh': False, 'infeliz': False, 'rest': False, 'esperanç': False, 'salári': False, 'vestibul': False, 'import': False, 'azar': False, 'vinganç': False, 'desanim': False, 'desan': False, 'discrimin': False, 'desonr': False, 'preocup': False, 'dev': False, 'açã': False, 'desalent': False, 'viu': False, 'reconhec': False, 'vici': False}\n"
          ]
        }
      ]
    },
    {
      "cell_type": "code",
      "source": [
        "# Extração das palavras de todas as frases\n",
        "basecompleta = nltk.classify.apply_features(extratorpalavras, frasescomstemming)\n",
        "basecompletateste = nltk.classify.apply_features(extratorpalavras, frasescomstemmingteste)\n",
        "#print(basecompleta[15])"
      ],
      "metadata": {
        "id": "t8UDnlc9juA1"
      },
      "execution_count": 314,
      "outputs": []
    },
    {
      "cell_type": "code",
      "source": [
        "# Teorema de Bayes\n",
        "# Abordagem probabilística\n",
        "# Exemplos: Filtros de spam, Mineração de emoções, Separação de documentos\n",
        "\n",
        "# constrói a tabela de probabilidade\n",
        "classificador = nltk.NaiveBayesClassifier.train(basecompleta)\n",
        "#print(classificador.labels())"
      ],
      "metadata": {
        "id": "IiFppTSbkpQQ"
      },
      "execution_count": 315,
      "outputs": []
    },
    {
      "cell_type": "code",
      "source": [
        "print(nltk.classify.accuracy(classificador, basecompleta))"
      ],
      "metadata": {
        "colab": {
          "base_uri": "https://localhost:8080/"
        },
        "id": "B-HZ6LQQQ3es",
        "outputId": "f7bc51d7-6a80-4c9a-9510-4687eef423aa"
      },
      "execution_count": 316,
      "outputs": [
        {
          "output_type": "stream",
          "name": "stdout",
          "text": [
            "0.9312267657992565\n"
          ]
        }
      ]
    },
    {
      "cell_type": "code",
      "source": [
        "print(nltk.classify.accuracy(classificador, basecompletateste))"
      ],
      "metadata": {
        "colab": {
          "base_uri": "https://localhost:8080/"
        },
        "id": "ieTADaN8RZ_C",
        "outputId": "3a28584e-6d4d-43ce-e0a0-2bff4705b554"
      },
      "execution_count": 317,
      "outputs": [
        {
          "output_type": "stream",
          "name": "stdout",
          "text": [
            "0.32456140350877194\n"
          ]
        }
      ]
    },
    {
      "cell_type": "code",
      "source": [
        "erros = []\n",
        "for (frase, classe) in basecompletateste:\n",
        "  #print(frase)\n",
        "  #print(classe)\n",
        "  resultado = classificador.classify(frase)\n",
        "  if resultado != classe:\n",
        "    erros.append((classe, resultado, frase))\n",
        "for (classe, resultado, frase) in erros:\n",
        "  pass\n",
        "  #print(classe, resultado, frase)"
      ],
      "metadata": {
        "id": "Xfvy11GATSDz"
      },
      "execution_count": 318,
      "outputs": []
    },
    {
      "cell_type": "code",
      "source": [
        "#esperado = 'alegria alegria alegria alegria medo medo surpresa surpresa'.split()\n",
        "#previsto = 'alegria alegria medo surpresa medo medo medo surpresa'.split()\n",
        "\n",
        "esperado = []\n",
        "previsto = []\n",
        "for (frase, classe) in basecompletateste:\n",
        "  resultado = classificador.classify(frase)\n",
        "  previsto.append(resultado)\n",
        "  esperado.append(classe)\n",
        "\n",
        "matriz = ConfusionMatrix(esperado, previsto)\n",
        "print(matriz)"
      ],
      "metadata": {
        "colab": {
          "base_uri": "https://localhost:8080/"
        },
        "id": "vOXFG5MZVyef",
        "outputId": "1e3e92d6-ce6a-45b5-da4d-66512184daa3"
      },
      "execution_count": 319,
      "outputs": [
        {
          "output_type": "stream",
          "name": "stdout",
          "text": [
            "         |     d        s  t |\n",
            "         |  a  e        u  r |\n",
            "         |  l  s        r  i |\n",
            "         |  e  g     r  p  s |\n",
            "         |  g  o  m  a  r  t |\n",
            "         |  r  s  e  i  e  e |\n",
            "         |  i  t  d  v  s  z |\n",
            "         |  a  o  o  a  a  a |\n",
            "---------+-------------------+\n",
            " alegria |<34> 3  .  9  .  2 |\n",
            "desgosto | 15<18> .  2  .  1 |\n",
            "    medo | 18  6 <4> 3  2  3 |\n",
            "   raiva | 26  2  2 <3> .  3 |\n",
            "surpresa | 28  .  .  1 <5> 2 |\n",
            "tristeza | 23  2  .  1  .<10>|\n",
            "---------+-------------------+\n",
            "(row = reference; col = test)\n",
            "\n"
          ]
        }
      ]
    },
    {
      "cell_type": "code",
      "source": [
        "# 1. Cenário\n",
        "# 2. Número de classes\n",
        "# 3. ZeroRules\n"
      ],
      "metadata": {
        "id": "1MOSWMHqSEaN"
      },
      "execution_count": 320,
      "outputs": []
    },
    {
      "cell_type": "code",
      "source": [
        "print(classificador.show_most_informative_features(5))"
      ],
      "metadata": {
        "colab": {
          "base_uri": "https://localhost:8080/"
        },
        "id": "0yPwvnkqMC4q",
        "outputId": "b2f2b488-09ef-4a5b-827a-79e47d2792a2"
      },
      "execution_count": 321,
      "outputs": [
        {
          "output_type": "stream",
          "name": "stdout",
          "text": [
            "Most Informative Features\n",
            "                 acredit = True           surpre : triste =      6.3 : 1.0\n",
            "                    real = True           surpre : alegri =      5.8 : 1.0\n",
            "                     dia = True           triste : alegri =      4.0 : 1.0\n",
            "                     pod = True             medo : alegri =      4.0 : 1.0\n",
            "                     vid = True           triste : alegri =      4.0 : 1.0\n",
            "None\n"
          ]
        }
      ]
    },
    {
      "cell_type": "code",
      "source": [
        "print(classificador.show_most_informative_features(10))"
      ],
      "metadata": {
        "colab": {
          "base_uri": "https://localhost:8080/"
        },
        "id": "ZGiyfVWnMepa",
        "outputId": "4b50002f-2ac5-48d0-ff31-dcea79b4b764"
      },
      "execution_count": 322,
      "outputs": [
        {
          "output_type": "stream",
          "name": "stdout",
          "text": [
            "Most Informative Features\n",
            "                 acredit = True           surpre : triste =      6.3 : 1.0\n",
            "                    real = True           surpre : alegri =      5.8 : 1.0\n",
            "                     dia = True           triste : alegri =      4.0 : 1.0\n",
            "                     pod = True             medo : alegri =      4.0 : 1.0\n",
            "                     vid = True           triste : alegri =      4.0 : 1.0\n",
            "                 depress = True           triste : desgos =      3.9 : 1.0\n",
            "                     mim = True           triste : medo   =      3.7 : 1.0\n",
            "                    pass = True           triste : desgos =      3.2 : 1.0\n",
            "                     ach = True             medo : alegri =      3.1 : 1.0\n",
            "                    cert = True             medo : alegri =      3.1 : 1.0\n",
            "None\n"
          ]
        }
      ]
    },
    {
      "cell_type": "code",
      "source": [
        "#teste = 'estou com medo'\n",
        "#teste = 'estou apavorado com a situação'\n",
        "#teste = 'eu sinto amor por você'\n",
        "#teste = 'hoje é um belo dia'\n",
        "#teste = 'eu te amo'\n",
        "teste = 'amor medo dia apavorado'\n",
        "\n",
        "testestemming = []\n",
        "stemmer = nltk.RSLPStemmer()\n",
        "for (palavras) in teste.split():\n",
        "  comstem = [p for p in palavras.split()]\n",
        "  testestemming.append(str(stemmer.stem(comstem[0])))\n",
        "print(testestemming)"
      ],
      "metadata": {
        "colab": {
          "base_uri": "https://localhost:8080/"
        },
        "id": "_Ptk07GmM57A",
        "outputId": "f61e2828-cdef-4da8-b0f2-a6dc5f79627f"
      },
      "execution_count": 323,
      "outputs": [
        {
          "output_type": "stream",
          "name": "stdout",
          "text": [
            "['am', 'med', 'dia', 'apavor']\n"
          ]
        }
      ]
    },
    {
      "cell_type": "code",
      "source": [
        "novo = extratorpalavras(testestemming)\n",
        "print(novo)"
      ],
      "metadata": {
        "colab": {
          "base_uri": "https://localhost:8080/"
        },
        "id": "pHaJRFMjNbD8",
        "outputId": "5e8b0fe6-6ed7-4f3f-8f8a-e64048b1dc82"
      },
      "execution_count": 324,
      "outputs": [
        {
          "output_type": "stream",
          "name": "stdout",
          "text": [
            "{'trabalh': False, 'agrad': False, 'gost': False, 'fic': False, 'aconcheg': False, 'fiz': False, 'ades': False, 'curs': False, 'hoj': False, 'admir': False, 'muit': False, 'ador': False, 'cabel': False, 'maci': False, 'cor': False, 'olh': False, 'som': False, 'am': True, 'outr': False, 'sint': False, 'grand': False, 'afe': False, 'quer': False, 'filh': False, 'complet': False, 'amo': False, 'alivi': False, 'dor': False, 'ameniz': False, 'final': False, 'ach': False, 'apaixon': False, 'maravilh': False, 'sent': False, 'anim': False, 'bem': False, 'lu': False, 'bel': False, 'dia': True, 'bonit': False, 'afortun': False, 'mund': False, 'receb': False, 'car': False, 'coleg': False, 'reconfort': False, 'bom': False, 'amig': False, 'cont': False, 'result': False, 'test': False, 'pint': False, 'brilh': False, 'águ': False, 'abundanc': False, 'roup': False, 'delic': False, 'comedi': False, 'bondad': False, 'vir': False, 'aqu': False, 'lind': False, 'amizad': False, 'vai': False, 'dur': False, 'sempr': False, 'eufór': False, 'notic': False, 'real': False, 'fiel': False, 'mim': False, 'dar': False, 'fest': False, 'comemor': False, 'aniversári': False, 'graç': False, 'deu': False, 'enxerg': False, 'cert': False, 'melhor': False, 'escolh': False, 'tod': False, 'incr': False, 'engraç': False, 'tent': False, 'explic': False, 'emocion': False, 'nest': False, 'lug': False, 'cativ': False, 'louc': False, 'nunc': False, 'duvid': False, 'rode': False, 'abraç': False, 'vej': False, 'estrel': False, 'caminh': False, 'sol': False, 'pert': False, 'sorr': False, 'orelh': False, 'val': False, 'pen': False, 'coloc': False, 'prim': False, 'danç': False, 'noit': False, 'adentr': False, 'toq': False, 'coraçã': False, 'companh': False, 'traz': False, 'volt': False, 'vid': False, 'sonh': False, 'doc': False, 'frut': False, 'suc': False, 'favorit': False, 'agradec': False, 'ajud': False, 'enorm': False, 'praz': False, 'ter': False, 'equip': False, 'flutu': False, 'ar': False, 'bris': False, 'ótim': False, 'compat': False, 'órg': False, 'paci': False, 'aceit': False, 'faculdad': False, 'aprov': False, 'exam': False, 'benefici': False, 'empr': False, 'apoi': False, 'confort': False, 'quent': False, 'fri': False, 'elogi': False, 'demal': False, 'cham': False, 'desej': False, 'presenç': False, 'apresent': False, 'grat': False, 'dedic': False, 'naquil': False, 'faç': False, 'vam': False, 'agit': False, 'signif': False, 'agir': False, 'preconceit': False, 'julg': False, 'coleção,': False, 'rainh': False, 'satisf': False, 'anunci': False, 'venc': False, 'jog': False, 'atr': False, 'facil': False, 'rapaz': False, 'extrem': False, 'atra': False, 'sinto-m': False, 'viv': False, 'paz': False, 'tend': False, 'lucr': False, 'tud': False, 'ord': False, 'agor': False, 'pod': False, 'arrum': False, 'empreg': False, 'junt': False, 'terminada,': False, 'alívi': False, 'cânc': False, 'benign': False, 'abund': False, 'carid': False, 'natal': False, 'charm': False, 'irá': False, 'cuidad': False, 'comov': False, 'tamanh': False, 'caridad': False, 'chá': False, 'alegr': False, 'aplaud': False, 'palm': False, 'aniversari': False, 'hor': False, 'apreci': False, 'vinh': False, 'escol': False, 'ansei': False, 'próx': False, 'amist': False, 'ânim': False, 'apazigu': False, 'concretiz': False, 'abomin': False, 'man': False, 'age': False, 'adoent': False, 'pai': False, 'doent': False, 'situ': False, 'amarg': False, 'diss': False, 'adeu': False, 'antipat': False, 'pesso': False, 'antipática!': False, 'horr': False, 'asquer': False, 'avers': False, 'agent': False, 'chate': False, 'ment': False, 'desagrad': False, 'desagr': False, 'enjô': False, 'terr': False, 'enf': False, 'enferm': False, 'grav': False, 'gross': False, 'fez': False, 'manobr': False, 'ileg': False, 'indecente,': False, 'vergonha?': False, 'malv': False, 'crianç': False, 'coment': False, 'mald': False, 'escrúpul': False, 'manipul': False, 'repuls': False, 'indispost': False, 'indispos': False, 'atac': False, 'vomit': False, 'lá': False, 'incomod': False, 'bob': False, 'noj': False, 'suj': False, 'náuse': False, 'lembr': False, 'nause': False, 'cheir': False, 'dest': False, 'com': False, 'obstru': False, 'pass': False, 'terri': False, 'fei': False, 'atitud': False, 'deplor': False, 'mau': False, 'desgost': False, 'cort': False, 'assunt': False, 'tant': False, 'chateação?': False, 'perfum': False, 'enjo': False, 'perig': False, 'nad': False, 'fet': False, 'esgot': False, 'fed': False, 'cachorr': False, 'malcheir': False, 'ultraj': False, 'part': False, 'assim': False, 'mal': False, 'sociedad': False, 'criat': False, 'depress': False, 'vê': False, 'asc': False, 'dess': False, 'cois': False, 'hediondo!': False, 'golf': False, 'caf': False, 'garot': False, 'detestável!': False, 'obscen': False, 'frent': False, 'rud': False, 'visit': False, 'travess': False, 'educ': False, 'divorci': False, 'patetico,': False, 'dizer?': False, 'motiv': False, 'torpe,': False, 'mei': False, 'cruel': False, 'impossibil': False, 'defês': False, 'vítim': False, 'invej': False, 'vil': False, 'vergonh': False, 'ning': False, 'atrev': False, 'confessá-l': False, 'miser': False, 'recei': False, 'sentiment': False, 'modern': False, 'gat': False, 'saudad': False, 'don': False, 'mij': False, 'sapat': False, 'ato': False, 'detest': False, 'cov': False, 'revel': False, 'apen': False, 'destru': False, 'pov': False, 'sei': False, 'patife,': False, 'hom': False, 'honest': False, 'suport': False, 'insuport': False, 'injur': False, 'temp': False, 'injustiç': False, 'odi': False, 'desum': False, 'public': False, 'conteúd': False, 'odiento,': False, 'pornográf': False, 'ameaç': False, 'rancor': False, 'reprim': False, 'animal': False, 'degradante,': False, 'estúpido,': False, 'covarde,': False, 'lamentável,': False, 'egoísta,': False, 'virulent': False, 'debat': False, 'ent': False, 'polít': False, 'imploro,': False, 'matem!': False, 'perigoso?': False, 'segur': False, 'corr': False, 'pra': False, 'peg': False, 'socorro!': False, 'roub': False, 'doces!': False, 'persegu': False, 'entr': False, 'lá,': False, 'continu': False, 'assust': False, 'selv': False, 'avanc': False, 'cautel': False, 'silenci': False, 'mais,': False, 'cuidado!': False, 'favor,': False, 'deixe-m': False, 'viver!': False, 'mes': False, 'tir': False, 'not': False, 'baix': False, 'parec': False, 'vigi': False, 'tem': False, 'sentenç': False, 'juiz': False, 'poss': False, 'nega': False, 'miss': False, 'arrisc': False, 'salvem-s': False, 'puder!': False, 'plan': False, 'descobert': False, 'culpa,': False, 'jur': False, 'tom': False, 'cuid': False, 'lobisom': False, 'achar,': False, 'descobr': False, 'verdad': False, 'deus,': False, 'desapareceu!': False, 'daqui!': False, 'mantenh': False, 'segredo,': False, 'est': False, 'ferr': False, 'soltem,': False, 'inoc': False, 'ouv': False, 'atrás': False, 'ped': False, 'curv': False, 'estr': False, 'não,': False, 'trem': False, 'medo!': False, 'socorro,': False, 'cair!': False, 'ate': False, 'florest': False, 'negra,': False, 'ouç': False, 'direç': False, 'voltar,': False, 'fuja,': False, 'acab': False, 'mort': False, 'livr': False, 'armado!': False, 'ei': False, 'cuidado,': False, 'bat': False, 'poste!': False, 'afund': False, 'serio,': False, 'arma!': False, 'tub': False, 'atacando!': False, 'arrepi': False, 'so': False, 'escur': False, 'calma,': False, 'dinh': False, 'send': False, 'engan': False, 'ligeiro,': False, 'fug': False, 'crocodil': False, 'vind': False, 'cá': False, 'quiet': False, 'vão': False, 'fuja!': False, 'tigr': False, 'famint': False, 'saída,': False, 'precis': False, 'milagr': False, 'mim!': False, 'nadar,': False, 'afogar!': False, 'apanh': False, 'pal': False, 'ver': False, 'boletim': False, 'consig': False, 'sair': False, 'tarde,': False, 'assalt': False, 'deix': False, 'favor!': False, 'espere,': False, 'larg': False, 'seguranç': False, 'entreg': False, 'dinheiro,': False, 'favor': False, 'mate!': False, 'lev': False, 'dirij': False, 'rápid': False, 'descobriram,': False, 'irã': False, 'prender!': False, 'esper': False, 'nenhum': False, 'afogar,': False, 'salv': False, 'pens': False, 'acontec': False, 'ness': False, 'cidad': False, 'desgr': False, 'algu': False, 'ligando,': False, 'remedio,': False, 'mat': False, 'confi': False, 'nele,': False, 'descoberto,': False, 'ir': False, 'estremec': False, 'cas': False, 'mov': False, 'monstruos': False, 'agüent': False, 'suspens': False, 'afug': False, 'cão': False, 'choc': False, 'amedront': False, 'assassinat': False, 'brut': False, 'afugent': False, 'ímpet': False, 'med': True, 'infern': False, 'us': False, 'forç': False, 'obje': False, 'apav': False, 'fer': False, 'profund': False, 'despej': False, 'cól': False, 'atorment': False, 'contrari': False, 'constru': False, 'termin': False, 'trabalho,': False, 'frustr': False, 'ruim': False, 'destró': False, 'separ': False, 'vest': False, 'pud': False, 'compr': False, 'celul': False, 'show': False, 'horror': False, 'ingress': False, 'estrag': False, 'possu': False, 'algum': False, 'pobr': False, 'prejudic': False, 'nov': False, 'ridícul': False, 'apert': False, 'music': False, 'ofens': False, 'taref': False, 'difícil': False, 'reprov': False, 'gradu': False, 'odei': False, 'despraz': False, 'conhecê-l': False, 'desperdiç': False, 'ranc': False, 'vet': False, 'orç': False, 'client': False, 'consent': False, 'descas': False, 'desprez': False, 'descont': False, 'famíl': False, 'furi': False, 'obrig': False, 'lado?': False, 'sobr': False, 'enfurec': False, 'diab': False, 'corp': False, 'diaból': False, 'gent': False, 'chat': False, 'perdo': False, 'tra': False, 'corrupt': False, 'crucific': False, 'enlouquec': False, 'barulh': False, 'assedi': False, 'drag': False, 'ridículo!': False, 'vez,': False, 'invent': False, 'tolos!': False, 'escapar!': False, 'jamal': False, 'isso?': False, 'mult': False, 'limites!': False, 'sente-s': False, 'cal': False, 'boc': False, 'ingratosvermesvoc': False, 'pagam!': False, 'sai': False, 'dai,': False, 'arranc': False, 'dai!': False, 'caus': False, 'problem': False, 'sufici': False, 'got': False, 'd’agu': False, 'entend': False, 'safados!': False, 'merec': False, 'piedad': False, 'sum': False, 'daqui,': False, 'couro!': False, 'revolt': False, 'idiota!': False, 'emprest': False, 'dinheiro!': False, 'cafajeste!': False, 'emb': False, 'par': False, 'fresc': False, 'vá': False, 'liç': False, 'aind': False, 'brav': False, 'surr': False, 'chantag': False, 'fez!': False, 'derramou!': False, 'apanhar!': False, 'paz!': False, 'morr': False, 'maldito,': False, 'morra!': False, 'irrit': False, 'fech': False, 'bic': False, 'magic': False, 'surpreend': False, 'imens': False, 'glob': False, 'tremend': False, 'interess': False, 'bilhet': False, 'sorteado,': False, 'inacreditável!': False, 'mão': False, 'armada!': False, 'incrível,': False, 'cab': False, 'qualqu': False, 'lugar!': False, 'aqui?': False, 'dá': False, 'acredit': False, 'convid': False, 'chegando!': False, 'pux': False, 'vida!': False, 'mich': False, 'cart': False, 'sumiu,': False, 'oh!': False, 'disc': False, 'voad': False, 'amigos,': False, 'surpresa!': False, 'vei': False, 'descar': False, 'falt': False, 'tat': False, 'predi': False, 'ond': False, 'mor': False, 'desabou!': False, 'inacredit': False, 'bol': False, 'seri': False, 'mesmo?': False, 'encontro?': False, 'casa?': False, 'ue,': False, 'foi?!': False, 'nossa,': False, 'mergulh': False, 'esp': False, 'grávida!': False, 'sumiu!': False, 'doi': False, 'terminaram?!?': False, 'caramba,': False, 'vi': False, 'cheg': False, 'cozinh': False, 'mal?': False, 'fórmul': False, 'comig': False, 'escond': False, 'alg': False, 'nós!': False, 'assim,': False, 'pronta!': False, 'opa!': False, 'apag': False, 'luz?': False, 'caramba!': False, 'aond': False, 'rápido?': False, 'segu': False, 'errado!': False, 'quatr': False, 'litr': False, 'gasolina!': False, 'vê-l': False, 'jeito!': False, 'mãe': False, 'grávida,': False, 'nisso?': False, 'cresc': False, 'imagin': False, 'conseg': False, 'bela?': False, 'deslumbr': False, 'super': False, 'expect': False, 'comport': False, 'notici': False, 'espant': False, 'verd': False, 'nel': False, 'perplex': False, 'denunc': False, 'fiq': False, 'palavr': False, 'abism': False, 'pros': False, 'grup': False, 'enquant': False, 'lav': False, 'carr': False, 'boquiabert': False, 'imag': False, 'quadr': False, 'encontrá-l': False, 'emudec': False, 'mulh': False, 'efeit': False, 'natur': False, 'jói': False, 'român': False, 'esplênd': False, 'esplend': False, 'ceu': False, 'encontr': False, 'moment': False, 'fant': False, 'edifíci': False, 'abandon': False, 'abat': False, 'trist': False, 'aborrec': False, 'afl': False, 'aflig': False, 'mod': False, 'fal': False, 'agon': False, 'intim': False, 'faz': False, 'ansi': False, 'tens': False, 'chor': False, 'lagr': False, 'perd': False, 'arrepend': False, 'carm': False, 'volta,': False, 'poi': False, 'sofr': False, 'cumpr': False, 'promess': False, 'amargur': False, 'coit': False, 'tard': False, 'machuc': False, 'mud': False, 'dói': False, 'derrot': False, 'deprim': False, 'brasil': False, 'culp': False, 'ansiedad': False, 'jeit': False, 'ult': False, 'propost': False, 'centav': False, 'ano': False, 'afinal': False, 'sab': False, 'desfaz': False, 'falh': False, 'humilh': False, 'histór': False, 'sirv': False, 'droga,': False, 'direit': False, 'dobr': False, 'demit': False, 'seman': False, 'adult': False, 'ruim,': False, 'pi': False, 'repent': False, 'apetit': False, 'oh': False, 'infeliz': False, 'rest': False, 'esperanç': False, 'salári': False, 'vestibul': False, 'import': False, 'azar': False, 'vinganç': False, 'desanim': False, 'desan': False, 'discrimin': False, 'desonr': False, 'preocup': False, 'dev': False, 'açã': False, 'desalent': False, 'viu': False, 'reconhec': False, 'vici': False}\n"
          ]
        }
      ]
    },
    {
      "cell_type": "code",
      "source": [
        "print(classificador.classify(novo))"
      ],
      "metadata": {
        "colab": {
          "base_uri": "https://localhost:8080/"
        },
        "id": "pezfRxpHNqn1",
        "outputId": "103652de-57e5-4598-b21d-908d3678be46"
      },
      "execution_count": 325,
      "outputs": [
        {
          "output_type": "stream",
          "name": "stdout",
          "text": [
            "alegria\n"
          ]
        }
      ]
    },
    {
      "cell_type": "code",
      "source": [
        "distribuicao = classificador.prob_classify(novo)\n",
        "\n",
        "print(\"Sentimento: \"+classificador.classify(novo))\n",
        "for classe in distribuicao.samples():\n",
        "  print(\"%s: %f\" % (classe, distribuicao.prob(classe)))"
      ],
      "metadata": {
        "colab": {
          "base_uri": "https://localhost:8080/"
        },
        "id": "pOkFoRI4NzZJ",
        "outputId": "a5cb4206-acb5-4949-a218-31dfe03b76fa"
      },
      "execution_count": 326,
      "outputs": [
        {
          "output_type": "stream",
          "name": "stdout",
          "text": [
            "Sentimento: alegria\n",
            "alegria: 0.628876\n",
            "desgosto: 0.007990\n",
            "medo: 0.012367\n",
            "raiva: 0.022022\n",
            "surpresa: 0.004982\n",
            "tristeza: 0.323762\n"
          ]
        }
      ]
    },
    {
      "cell_type": "code",
      "source": [],
      "metadata": {
        "id": "7MK6sX43OZjt"
      },
      "execution_count": 326,
      "outputs": []
    }
  ]
}